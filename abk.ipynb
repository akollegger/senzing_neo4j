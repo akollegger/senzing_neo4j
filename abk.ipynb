{
 "cells": [
  {
   "cell_type": "markdown",
   "id": "7067d845-9121-47c1-8bc2-65db8f4d7004",
   "metadata": {},
   "source": [
    "# Senzing and Neo4j Integration Example"
   ]
  },
  {
   "cell_type": "markdown",
   "id": "78939f8c-3e2c-49b0-b447-213cccfd5ea6",
   "metadata": {
    "execution": {
     "iopub.execute_input": "2024-03-15T19:36:02.310335Z",
     "iopub.status.busy": "2024-03-15T19:36:02.303320Z",
     "iopub.status.idle": "2024-03-15T19:36:02.352513Z",
     "shell.execute_reply": "2024-03-15T19:36:02.348131Z",
     "shell.execute_reply.started": "2024-03-15T19:36:02.310230Z"
    }
   },
   "source": [
    "## Set up the Python environment"
   ]
  },
  {
   "cell_type": "markdown",
   "id": "ea7cc699-a3f7-4768-966a-a7fd77b825c4",
   "metadata": {},
   "source": [
    "First, we need to import the Python library dependencies which are required for the code we'll be running."
   ]
  },
  {
   "cell_type": "code",
   "execution_count": 2,
   "id": "c55880de-2f5f-425d-bdfc-6a9cd19f9777",
   "metadata": {
    "execution": {
     "iopub.execute_input": "2024-03-18T19:10:10.311181Z",
     "iopub.status.busy": "2024-03-18T19:10:10.309994Z",
     "iopub.status.idle": "2024-03-18T19:10:10.477692Z",
     "shell.execute_reply": "2024-03-18T19:10:10.476009Z",
     "shell.execute_reply.started": "2024-03-18T19:10:10.311100Z"
    }
   },
   "outputs": [],
   "source": [
    "from dataclasses import dataclass, field\n",
    "import csv\n",
    "import json\n",
    "import os\n",
    "import pathlib\n",
    "import sys\n",
    "import typing\n",
    "\n",
    "from icecream import ic\n",
    "from tqdm import tqdm\n",
    "import dotenv\n",
    "import matplotlib.pyplot as plt\n",
    "import neo4j\n",
    "import pandas as pd\n",
    "import seaborn as sns\n",
    "import watermark\n",
    "\n",
    "%load_ext watermark"
   ]
  },
  {
   "cell_type": "markdown",
   "id": "11331aa0-be80-4de3-bed3-24beb12a57bc",
   "metadata": {},
   "source": [
    "Show a \"watermark\" of which versions are being used for system componenents and library dependencies. This may help in case you need to troubleshoot the dependencies on your system, e.g., if there's some conflict during installation."
   ]
  },
  {
   "cell_type": "code",
   "execution_count": 2,
   "id": "e6a97a2f-e4c4-4086-9dec-bfbf680fd9b9",
   "metadata": {
    "execution": {
     "iopub.execute_input": "2024-03-18T16:36:29.241026Z",
     "iopub.status.busy": "2024-03-18T16:36:29.240620Z",
     "iopub.status.idle": "2024-03-18T16:36:29.301130Z",
     "shell.execute_reply": "2024-03-18T16:36:29.299679Z",
     "shell.execute_reply.started": "2024-03-18T16:36:29.240997Z"
    },
    "scrolled": true
   },
   "outputs": [
    {
     "name": "stdout",
     "output_type": "stream",
     "text": [
      "Last updated: 2024-03-21T11:39:00.815526+00:00\n",
      "\n",
      "Python implementation: CPython\n",
      "Python version       : 3.11.6\n",
      "IPython version      : 8.22.2\n",
      "\n",
      "Compiler    : Clang 15.0.0 (clang-1500.0.40.1)\n",
      "OS          : Darwin\n",
      "Release     : 23.2.0\n",
      "Machine     : x86_64\n",
      "Processor   : i386\n",
      "CPU cores   : 16\n",
      "Architecture: 64bit\n",
      "\n",
      "sys       : 3.11.6 (main, Oct  2 2023, 13:45:54) [Clang 15.0.0 (clang-1500.0.40.1)]\n",
      "watermark : 2.4.3\n",
      "matplotlib: 3.8.3\n",
      "seaborn   : 0.13.2\n",
      "neo4j     : 5.18.0\n",
      "json      : 2.0.9\n",
      "pandas    : 2.2.1\n",
      "csv       : 1.0\n",
      "\n"
     ]
    }
   ],
   "source": [
    "%watermark\n",
    "%watermark --iversions"
   ]
  },
  {
   "cell_type": "markdown",
   "id": "c973c13e-97b9-410d-9b83-4d0118b77be5",
   "metadata": {},
   "source": [
    "## Build a Knowledge Graph in Neo4j"
   ]
  },
  {
   "cell_type": "markdown",
   "id": "8c5d05ec-df26-4b10-91af-ff431ea64593",
   "metadata": {},
   "source": [
    "Set up a Bolt driver using our credentials for Neo4j Desktop"
   ]
  },
  {
   "cell_type": "code",
   "execution_count": 13,
   "id": "cc6918f4-d9f3-43a2-9cb9-726b03d2a2d0",
   "metadata": {
    "execution": {
     "iopub.execute_input": "2024-03-18T19:10:18.883943Z",
     "iopub.status.busy": "2024-03-18T19:10:18.883342Z",
     "iopub.status.idle": "2024-03-18T19:10:19.014617Z",
     "shell.execute_reply": "2024-03-18T19:10:19.013890Z",
     "shell.execute_reply.started": "2024-03-18T19:10:18.883909Z"
    }
   },
   "outputs": [],
   "source": [
    "dotenv.load_dotenv(dotenv.find_dotenv())\n",
    "\n",
    "bolt_uri: str = os.environ.get(\"NEO4J_BOLT\")\n",
    "username: str = os.environ.get(\"NEO4J_USER\")\n",
    "password: str = os.environ.get(\"NEO4J_PASS\")\n",
    "\n",
    "driver: neo4j.BoltDriver = neo4j.GraphDatabase.driver(\n",
    "    bolt_uri,\n",
    "    auth = ( username, password, ),\n",
    ")"
   ]
  },
  {
   "cell_type": "markdown",
   "id": "3aaf2d9f-3ea9-476a-9cf8-b32941618f5c",
   "metadata": {},
   "source": [
    "Delete the previous graph data..."
   ]
  },
  {
   "cell_type": "code",
   "execution_count": 22,
   "id": "3ea4f2b6-7243-42af-b6d6-2b45eab18bb8",
   "metadata": {
    "execution": {
     "iopub.execute_input": "2024-03-17T23:24:01.145805Z",
     "iopub.status.busy": "2024-03-17T23:24:01.145497Z",
     "iopub.status.idle": "2024-03-17T23:24:01.149389Z",
     "shell.execute_reply": "2024-03-17T23:24:01.148644Z",
     "shell.execute_reply.started": "2024-03-17T23:24:01.145787Z"
    }
   },
   "outputs": [],
   "source": [
    "with driver.session() as session:\n",
    "    #session.run(\"MATCH (x) DETACH DELETE x\")\n",
    "    #session.run(\"DROP CONSTRAINT unique_record\")\n",
    "    #session.run(\"DROP CONSTRAINT unique_entity\")\n",
    "    pass"
   ]
  },
  {
   "cell_type": "code",
   "execution_count": 23,
   "id": "01edd839-d90d-4959-bf1f-e1cf6de83457",
   "metadata": {
    "execution": {
     "iopub.execute_input": "2024-03-17T23:24:01.150371Z",
     "iopub.status.busy": "2024-03-17T23:24:01.150100Z",
     "iopub.status.idle": "2024-03-17T23:24:02.442446Z",
     "shell.execute_reply": "2024-03-17T23:24:02.440803Z",
     "shell.execute_reply.started": "2024-03-17T23:24:01.150340Z"
    }
   },
   "outputs": [],
   "source": [
    "with driver.session() as session:\n",
    "    query: str = \"\"\"\n",
    "CREATE CONSTRAINT unique_record \n",
    "    IF NOT EXISTS FOR (rec:Record) \n",
    "    REQUIRE rec.uid IS UNIQUE\n",
    "    \"\"\"\n",
    "    \n",
    "    session.run(query)\n",
    "\n",
    "    query = \"\"\"\n",
    "CREATE CONSTRAINT unique_entity \n",
    "    IF NOT EXISTS FOR (ent:Entity) \n",
    "    REQUIRE ent.uid IS UNIQUE\n",
    "    \"\"\"\n",
    "    \n",
    "    session.run(query)"
   ]
  },
  {
   "cell_type": "markdown",
   "id": "85f05249-3a5d-4026-8649-d6a4ff061bdd",
   "metadata": {
    "jp-MarkdownHeadingCollapsed": true
   },
   "source": [
    "### Populate nodes from the dataset records"
   ]
  },
  {
   "cell_type": "markdown",
   "id": "af2f9e52-e221-4707-8992-adb1fdc684db",
   "metadata": {},
   "source": [
    "Define utility functions used for loading the graph data."
   ]
  },
  {
   "cell_type": "code",
   "execution_count": 9,
   "id": "67482f89-7d4e-43e5-89ce-eb7f1cd08da4",
   "metadata": {
    "execution": {
     "iopub.execute_input": "2024-03-17T23:24:02.444585Z",
     "iopub.status.busy": "2024-03-17T23:24:02.444151Z",
     "iopub.status.idle": "2024-03-17T23:24:02.452372Z",
     "shell.execute_reply": "2024-03-17T23:24:02.450901Z",
     "shell.execute_reply.started": "2024-03-17T23:24:02.444547Z"
    }
   },
   "outputs": [],
   "source": [
    "def get_property_keys (\n",
    "    df: pd.DataFrame,\n",
    "    ) -> typing.List[ str ]:\n",
    "    \"\"\"\n",
    "Convert the column names from the given Pandas dataframe into Cypher property names.\n",
    "    \"\"\"\n",
    "    return [\n",
    "        name.lower().replace(\" \", \"_\")\n",
    "        for name in df.columns.values.tolist()\n",
    "    ]\n",
    "\n",
    "\n",
    "def safe_value (\n",
    "    obj: typing.Any,\n",
    "    ) -> typing.Any:\n",
    "    \"\"\"\n",
    "Escape double quotes within string values.\n",
    "    \"\"\"\n",
    "    if isinstance(obj, str):\n",
    "        return obj.replace('\"', \"'\")\n",
    "\n",
    "    return obj"
   ]
  },
  {
   "cell_type": "code",
   "execution_count": 7,
   "id": "7a6992d6-a119-40c1-ae75-fa43cc869daa",
   "metadata": {
    "execution": {
     "iopub.execute_input": "2024-03-17T23:24:02.454453Z",
     "iopub.status.busy": "2024-03-17T23:24:02.453966Z",
     "iopub.status.idle": "2024-03-17T23:24:02.462963Z",
     "shell.execute_reply": "2024-03-17T23:24:02.461886Z",
     "shell.execute_reply.started": "2024-03-17T23:24:02.454422Z"
    }
   },
   "outputs": [],
   "source": [
    "def format_merge_record (\n",
    "    keys: typing.List[ str ],\n",
    "    vals: list,\n",
    "    ) -> str:\n",
    "    \"\"\"\n",
    "Format one MERGE statement in Cypher for the values of a given Record.\n",
    "    \"\"\"\n",
    "    safe_vals = [ safe_value(v) for v in vals ]\n",
    "    row_dict: dict = dict(zip(keys, safe_vals))\n",
    "\n",
    "    uid: str = row_dict[\"data_source\"].upper() + \".\" + row_dict[\"record_id\"]\n",
    "    \n",
    "    props: str = \", \".join([\n",
    "        f\"rec.{key} = \\\"{val}\\\"\"\n",
    "        for key, val in row_dict.items()\n",
    "    ])\n",
    "\n",
    "    return f\"\"\"\n",
    "MERGE (rec:Record {{ uid: \\\"{uid}\\\" }})\n",
    "  ON CREATE\n",
    "    SET {props}      \n",
    "RETURN rec.data_source, rec.record_id\n",
    "    \"\"\"\n",
    "\n",
    "\n",
    "def load_records (\n",
    "    session: neo4j.Session,\n",
    "    df: pd.DataFrame,\n",
    "    ) -> None:\n",
    "    \"\"\"\n",
    "Iterate over each Record from one dataset to load using Cypher.\n",
    "    \"\"\"\n",
    "    keys: typing.List[ str ] = get_property_keys(df)\n",
    "\n",
    "    for _, row in tqdm(df.iterrows(), desc = \"merge nodes for records\"):\n",
    "        query: str = format_merge_record(keys, row.tolist())\n",
    "        session.run(query)"
   ]
  },
  {
   "cell_type": "code",
   "execution_count": 10,
   "id": "e41800d2",
   "metadata": {},
   "outputs": [
    {
     "name": "stdout",
     "output_type": "stream",
     "text": [
      "  data_source record_id     name  age\n",
      "0           A         1    Alice   30\n",
      "1           A         2      Bob   25\n",
      "2           B         3  Charlie   35\n",
      "3           B         4    David   40\n"
     ]
    },
    {
     "name": "stderr",
     "output_type": "stream",
     "text": [
      "merge nodes for records: 4it [00:00,  6.36it/s]\n"
     ]
    }
   ],
   "source": [
    "example_data = [\n",
    "    {\n",
    "        \"data_source\": \"A\",\n",
    "        \"record_id\": \"1\",\n",
    "        \"name\": \"Alice\",\n",
    "        \"age\": 30,\n",
    "    },\n",
    "    {\n",
    "        \"data_source\": \"A\",\n",
    "        \"record_id\": \"2\",\n",
    "        \"name\": \"Bob\",\n",
    "        \"age\": 25,\n",
    "    },\n",
    "    {\n",
    "        \"data_source\": \"B\",\n",
    "        \"record_id\": \"3\",\n",
    "        \"name\": \"Charlie\",\n",
    "        \"age\": 35,\n",
    "    },\n",
    "    {\n",
    "        \"data_source\": \"B\",\n",
    "        \"record_id\": \"4\",\n",
    "        \"name\": \"David\",\n",
    "        \"age\": 40,\n",
    "    },\n",
    "]\n",
    "\n",
    "example_df = pd.DataFrame(example_data)\n",
    "\n",
    "print(example_df)\n"
   ]
  },
  {
   "cell_type": "code",
   "execution_count": 11,
   "id": "6554c12d",
   "metadata": {},
   "outputs": [
    {
     "name": "stderr",
     "output_type": "stream",
     "text": [
      "merge nodes for records: 4it [00:00, 171.51it/s]\n"
     ]
    }
   ],
   "source": [
    "with driver.session() as session:\n",
    "    load_records(session, example_df)"
   ]
  },
  {
   "cell_type": "code",
   "execution_count": 25,
   "id": "da86fa95",
   "metadata": {},
   "outputs": [],
   "source": [
    "example_data = [\n",
    "    {\n",
    "        \"data_source\": \"A\",\n",
    "        \"record_id\": \"1\",\n",
    "        \"name\": \"Alice\",\n",
    "        \"age\": 30,\n",
    "    },\n",
    "    {\n",
    "        \"data_source\": \"A\",\n",
    "        \"record_id\": \"2\",\n",
    "        \"name\": \"Bob\",\n",
    "        \"age\": 25,\n",
    "    },\n",
    "    {\n",
    "        \"data_source\": \"B\",\n",
    "        \"record_id\": \"3\",\n",
    "        \"name\": \"Charlie\",\n",
    "        \"age\": 35,\n",
    "    },\n",
    "    {\n",
    "        \"data_source\": \"B\",\n",
    "        \"record_id\": \"4\",\n",
    "        \"name\": \"David\",\n",
    "        \"age\": 40,\n",
    "    },\n",
    "]\n",
    "\n",
    "with driver.session() as session:\n",
    "    for record in example_data:\n",
    "      session.run(\"\"\"\n",
    "        WITH toUpper($input.data_source) + \".\" + toString($input.record_id) as uid\n",
    "        MERGE (rec:Record { uid: uid })\n",
    "          ON CREATE SET rec += $input  \n",
    "        RETURN rec.data_source, rec.record_id                \n",
    "        \"\"\", \n",
    "        input = record \n",
    "      )\n",
    "      "
   ]
  },
  {
   "cell_type": "code",
   "execution_count": 20,
   "id": "378edc57-2309-4fcd-a359-233bb70f9574",
   "metadata": {
    "execution": {
     "iopub.execute_input": "2024-03-17T23:24:02.467987Z",
     "iopub.status.busy": "2024-03-17T23:24:02.466441Z",
     "iopub.status.idle": "2024-03-17T23:24:02.474619Z",
     "shell.execute_reply": "2024-03-17T23:24:02.472386Z",
     "shell.execute_reply.started": "2024-03-17T23:24:02.467926Z"
    }
   },
   "outputs": [],
   "source": [
    "#df = df_poi.head(5)"
   ]
  },
  {
   "cell_type": "code",
   "execution_count": 27,
   "id": "4dd7cc33-db96-40ec-8ba6-bd8c1f48d0ac",
   "metadata": {
    "execution": {
     "iopub.execute_input": "2024-03-17T23:24:02.479475Z",
     "iopub.status.busy": "2024-03-17T23:24:02.477498Z",
     "iopub.status.idle": "2024-03-18T00:36:01.512147Z",
     "shell.execute_reply": "2024-03-18T00:36:01.465377Z",
     "shell.execute_reply.started": "2024-03-17T23:24:02.479379Z"
    }
   },
   "outputs": [
    {
     "name": "stderr",
     "output_type": "stream",
     "text": [
      "merge nodes for records: 98806it [1:11:58, 22.88it/s]\n"
     ]
    }
   ],
   "source": [
    "with driver.session() as session:\n",
    "    load_records(session, df_poi)"
   ]
  },
  {
   "cell_type": "code",
   "execution_count": 28,
   "id": "8b947887-ff23-49ce-910b-fb71aa161028",
   "metadata": {
    "execution": {
     "iopub.execute_input": "2024-03-18T00:36:01.596562Z",
     "iopub.status.busy": "2024-03-18T00:36:01.593681Z",
     "iopub.status.idle": "2024-03-18T00:38:11.603594Z",
     "shell.execute_reply": "2024-03-18T00:38:11.599662Z",
     "shell.execute_reply.started": "2024-03-18T00:36:01.596527Z"
    }
   },
   "outputs": [
    {
     "name": "stderr",
     "output_type": "stream",
     "text": [
      "merge nodes for records: 1533it [02:09, 11.80it/s]\n"
     ]
    }
   ],
   "source": [
    "with driver.session() as session:\n",
    "    load_records(session, df_dol)"
   ]
  },
  {
   "cell_type": "code",
   "execution_count": 29,
   "id": "579299f7-aa36-43cf-b992-4f63922ac065",
   "metadata": {
    "execution": {
     "iopub.execute_input": "2024-03-18T00:38:11.618751Z",
     "iopub.status.busy": "2024-03-18T00:38:11.618079Z",
     "iopub.status.idle": "2024-03-18T00:40:42.301364Z",
     "shell.execute_reply": "2024-03-18T00:40:42.298262Z",
     "shell.execute_reply.started": "2024-03-18T00:38:11.618701Z"
    }
   },
   "outputs": [
    {
     "name": "stderr",
     "output_type": "stream",
     "text": [
      "merge nodes for records: 3488it [02:30, 23.16it/s]\n"
     ]
    }
   ],
   "source": [
    "with driver.session() as session:\n",
    "    load_records(session, df_ppp)"
   ]
  },
  {
   "cell_type": "code",
   "execution_count": 46,
   "id": "abd5ff98-d768-4f5c-b345-7d8279da7237",
   "metadata": {
    "execution": {
     "iopub.execute_input": "2024-03-18T16:09:14.764670Z",
     "iopub.status.busy": "2024-03-18T16:09:14.764260Z",
     "iopub.status.idle": "2024-03-18T16:09:17.453819Z",
     "shell.execute_reply": "2024-03-18T16:09:17.453308Z",
     "shell.execute_reply.started": "2024-03-18T16:09:14.764640Z"
    },
    "scrolled": true
   },
   "outputs": [
    {
     "name": "stderr",
     "output_type": "stream",
     "text": [
      "ic| record: <Record rec=<Node element_id='4:0f5270a7-dcca-435d-9c07-1268e61b9b6e:0' labels=frozenset({'Record'}) properties={'naics_code': '541110', 'is_intersection': 'nan', 'brands': '[]', 'business_geo_latitude': '36.145647', 'sub_category': 'Offices of Lawyers', 'location_name_org': 'Cantwell Michelle L Atty', 'category_tags': '[]', 'opened_on': 'nan', 'data_source': 'SAFEGRAPH', 'record_type': 'ORGANIZATION', 'business_addr_country': 'US', 'uid': 'SAFEGRAPH.225-222@5yv-j92-tn5', 'business_addr_full': '3320 W Sahara Ave Las Vegas NV 89102-3223', 'record_id': '225-222@5yv-j92-tn5', 'tracking_closed_since': '2019-07-01', 'business_geo_longitude': '-115.186399', 'placekey': '225-222@5yv-j92-tn5', 'mailing_verified_status': 'VERIFIED_PREMISE', 'closed_on': '2024-02-01', 'top_category': 'Legal Services', 'phone_number': '+17023627800'}>>\n",
      "ic| record: <Record rec=<Node element_id='4:0f5270a7-dcca-435d-9c07-1268e61b9b6e:1' labels=frozenset({'Record'}) properties={'naics_code': '722513', 'is_intersection': 'nan', 'brands': \"[ { 'safegraph_brand_id': 'SG_BRAND_f372f9969f6e1ae119a13ff4fc78fd2d', 'safegraph_brand_name': 'Pieology Pizzeria' } ]\", 'business_geo_latitude': '36.144906', 'sub_category': 'Limited-Service Restaurants', 'location_name_org': 'Pieology Pizzeria', 'category_tags': \"[ 'Counter Service', 'Dinner', 'Fast Food', 'Lunch', 'Pizza' ]\", 'opened_on': 'nan', 'data_source': 'SAFEGRAPH', 'record_type': 'ORGANIZATION', 'business_addr_country': 'US', 'uid': 'SAFEGRAPH.226-222@5yv-hmm-whq', 'business_addr_full': '10965 Lavender Hill Dr Ste 130 Las Vegas NV 89135-2951', 'record_id': '226-222@5yv-hmm-whq', 'tracking_closed_since': '2019-07-01', 'business_geo_longitude': '-115.332644', 'placekey': '226-222@5yv-hmm-whq', 'mailing_verified_status': 'VERIFIED_DELIVERY_POINT', 'closed_on': 'nan', 'top_category': 'Restaurants and Other Eating Places', 'phone_number': '+17023314454'}>>\n",
      "ic| record: <Record rec=<Node element_id='4:0f5270a7-dcca-435d-9c07-1268e61b9b6e:2' labels=frozenset({'Record'}) properties={'naics_code': '621399', 'is_intersection': 'nan', 'brands': '[]', 'business_geo_latitude': '36.10289', 'sub_category': 'Offices of All Other Miscellaneous Health Practitioners', 'location_name_org': 'Ellen Peneyra', 'category_tags': '[]', 'opened_on': 'nan', 'record_type': 'ORGANIZATION', 'data_source': 'SAFEGRAPH', 'business_addr_country': 'US', 'business_addr_full': '2275 Renaissance Dr Ste D Las Vegas NV 89119-6797', 'uid': 'SAFEGRAPH.22s-222@5yv-jbz-jgk', 'record_id': '22s-222@5yv-jbz-jgk', 'tracking_closed_since': '2019-07-01', 'business_geo_longitude': '-115.121807', 'placekey': '22s-222@5yv-jbz-jgk', 'mailing_verified_status': 'VERIFIED_DELIVERY_POINT', 'closed_on': 'nan', 'top_category': 'Offices of Other Health Practitioners', 'phone_number': '+17027397716'}>>\n",
      "ic| record: <Record rec=<Node element_id='4:0f5270a7-dcca-435d-9c07-1268e61b9b6e:3' labels=frozenset({'Record'}) properties={'naics_code': '621399', 'is_intersection': 'nan', 'brands': '[]', 'business_geo_latitude': '36.143386', 'sub_category': 'Offices of All Other Miscellaneous Health Practitioners', 'location_name_org': 'Stanford Jackson', 'category_tags': '[]', 'opened_on': 'nan', 'data_source': 'SAFEGRAPH', 'record_type': 'ORGANIZATION', 'business_addr_country': 'US', 'uid': 'SAFEGRAPH.28m-222@5yv-hmp-v4v', 'business_addr_full': '8321 W Sahara Ave Apt 2007 Las Vegas NV 89117-1883', 'record_id': '28m-222@5yv-hmp-v4v', 'tracking_closed_since': '2019-07-01', 'business_geo_longitude': '-115.272694', 'placekey': '28m-222@5yv-hmp-v4v', 'mailing_verified_status': 'VERIFIED_DELIVERY_POINT', 'closed_on': 'nan', 'top_category': 'Offices of Other Health Practitioners', 'phone_number': '+17025623569'}>>\n",
      "ic| record: <Record rec=<Node element_id='4:0f5270a7-dcca-435d-9c07-1268e61b9b6e:4' labels=frozenset({'Record'}) properties={'naics_code': '813110', 'is_intersection': 'nan', 'brands': '[]', 'business_geo_latitude': '36.199677', 'sub_category': 'Religious Organizations', 'location_name_org': 'Praise Templechurch', 'category_tags': '[]', 'opened_on': 'nan', 'data_source': 'SAFEGRAPH', 'record_type': 'ORGANIZATION', 'business_addr_country': 'US', 'uid': 'SAFEGRAPH.22g-222@5yv-j9q-c89', 'business_addr_full': '952 Balzar Ave Las Vegas NV 89106-2204', 'record_id': '22g-222@5yv-j9q-c89', 'tracking_closed_since': '2019-07-01', 'business_geo_longitude': '-115.154611', 'placekey': '22g-222@5yv-j9q-c89', 'mailing_verified_status': 'VERIFIED_DELIVERY_POINT', 'closed_on': 'nan', 'top_category': 'Religious Organizations', 'phone_number': '+17026386036'}>>\n",
      "ic| record: <Record rec=<Node element_id='4:0f5270a7-dcca-435d-9c07-1268e61b9b6e:5' labels=frozenset({'Record'}) properties={'naics_code': '621112', 'is_intersection': 'nan', 'brands': '[]', 'business_geo_latitude': '36.261833', 'location_name_org': 'MS. Jazlyn James', 'sub_category': 'Offices of Physicians, Mental Health Specialists', 'category_tags': '[]', 'opened_on': 'nan', 'data_source': 'SAFEGRAPH', 'record_type': 'ORGANIZATION', 'business_addr_country': 'US', 'uid': 'SAFEGRAPH.228-232@5yv-hts-bp9', 'business_addr_full': '5550 Painted Mirage Rd Ste 320 Las Vegas NV 89149-4584', 'record_id': '228-232@5yv-hts-bp9', 'tracking_closed_since': '2019-07-01', 'business_geo_longitude': '-115.255012', 'placekey': '228-232@5yv-hts-bp9', 'mailing_verified_status': 'VERIFIED_DELIVERY_POINT', 'closed_on': 'nan', 'top_category': 'Offices of Physicians', 'phone_number': '+17029008666'}>>\n",
      "ic| record: <Record rec=<Node element_id='4:0f5270a7-dcca-435d-9c07-1268e61b9b6e:6' labels=frozenset({'Record'}) properties={'naics_code': '81211', 'is_intersection': 'nan', 'brands': '[]', 'business_geo_latitude': '36.02097', 'sub_category': 'Hair, Nail, and Skin Care Services', 'location_name_org': \"Myle's Nails & Spa\", 'category_tags': '[]', 'opened_on': 'nan', 'data_source': 'SAFEGRAPH', 'record_type': 'ORGANIZATION', 'business_addr_country': 'US', 'uid': 'SAFEGRAPH.228-222@5yv-j2j-2x5', 'business_addr_full': '8090 Blue Diamond Rd Ste 180 Las Vegas NV 89178-9257', 'record_id': '228-222@5yv-j2j-2x5', 'tracking_closed_since': '2019-07-01', 'business_geo_longitude': '-115.267124', 'placekey': '228-222@5yv-j2j-2x5', 'mailing_verified_status': 'VERIFIED_DELIVERY_POINT', 'closed_on': '2020-06-01', 'top_category': 'Personal Care Services', 'phone_number': '+17148009724'}>>\n",
      "ic| record: <Record rec=<Node element_id='4:0f5270a7-dcca-435d-9c07-1268e61b9b6e:7' labels=frozenset({'Record'}) properties={'naics_code': '4238', 'is_intersection': 'nan', 'brands': '[]', 'business_geo_latitude': '36.129492', 'sub_category': 'nan', 'location_name_org': 'Green Led Lighting', 'category_tags': '[]', 'opened_on': 'nan', 'data_source': 'SAFEGRAPH', 'record_type': 'ORGANIZATION', 'business_addr_country': 'US', 'business_addr_full': '6230 W Desert Inn Rd Las Vegas NV 89146-6612', 'uid': 'SAFEGRAPH.226-228@5yv-j8x-g49', 'record_id': '226-228@5yv-j8x-g49', 'tracking_closed_since': '2019-07-01', 'business_geo_longitude': '-115.227666', 'placekey': '226-228@5yv-j8x-g49', 'mailing_verified_status': 'VERIFIED_DELIVERY_POINT', 'closed_on': 'nan', 'top_category': 'Machinery, Equipment, and Supplies Merchant Wholesalers', 'phone_number': 'nan'}>>\n",
      "ic| record: <Record rec=<Node element_id='4:0f5270a7-dcca-435d-9c07-1268e61b9b6e:8' labels=frozenset({'Record'}) properties={'naics_code': '446120', 'is_intersection': 'nan', 'brands': '[]', 'business_geo_latitude': '36.125916', 'location_name_org': 'Miin K Cosmetics', 'sub_category': 'Cosmetics, Beauty Supplies, and Perfume Stores', 'category_tags': \"[ 'Cosmetics' ]\", 'opened_on': 'nan', 'data_source': 'SAFEGRAPH', 'record_type': 'ORGANIZATION', 'business_addr_country': 'US', 'business_addr_full': '3475 S Jones Blvd Las Vegas NV 89146-6729', 'uid': 'SAFEGRAPH.224-222@5yv-j8x-hwk', 'record_id': '224-222@5yv-j8x-hwk', 'tracking_closed_since': '2019-07-01', 'business_geo_longitude': '-115.225935', 'placekey': '224-222@5yv-j8x-hwk', 'mailing_verified_status': 'VERIFIED_DELIVERY_POINT', 'closed_on': 'nan', 'top_category': 'Health and Personal Care Stores', 'phone_number': '+17022209648'}>>\n",
      "ic| record: <Record rec=<Node element_id='4:0f5270a7-dcca-435d-9c07-1268e61b9b6e:9' labels=frozenset({'Record'}) properties={'naics_code': '621111', 'is_intersection': 'nan', 'brands': '[]', 'business_geo_latitude': '36.131932', 'location_name_org': 'Rhee Christopher MD', 'sub_category': 'Offices of Physicians (except Mental Health Specialists)', 'category_tags': \"[ 'Gastroenterologist' ]\", 'opened_on': 'nan', 'data_source': 'SAFEGRAPH', 'record_type': 'ORGANIZATION', 'business_addr_country': 'US', 'uid': 'SAFEGRAPH.224-227@5yv-j8d-6zf', 'business_addr_full': '3196 S Maryland Pkwy Las Vegas NV 89109-2305', 'record_id': '224-227@5yv-j8d-6zf', 'tracking_closed_since': '2019-07-01', 'business_geo_longitude': '-115.135839', 'placekey': '224-227@5yv-j8d-6zf', 'mailing_verified_status': 'VERIFIED_PREMISE', 'closed_on': 'nan', 'top_category': 'Offices of Physicians', 'phone_number': '+17027910477'}>>\n"
     ]
    }
   ],
   "source": [
    "with driver.session() as session:\n",
    "    query: str = \"\"\"\n",
    "MATCH (rec:Record)\n",
    "RETURN rec\n",
    "LIMIT 10\n",
    "    \"\"\"\n",
    "    \n",
    "    for record in session.run(query):\n",
    "        ic(record)"
   ]
  },
  {
   "cell_type": "markdown",
   "id": "a75a6132-0ac8-4c4c-895c-83672a80f9ef",
   "metadata": {
    "jp-MarkdownHeadingCollapsed": true
   },
   "source": [
    "### Populate nodes from the Senzing entities"
   ]
  },
  {
   "cell_type": "code",
   "execution_count": 39,
   "id": "cfe0198a-9ec6-4a6b-8101-ecd7db840749",
   "metadata": {
    "execution": {
     "iopub.execute_input": "2024-03-18T00:48:13.372868Z",
     "iopub.status.busy": "2024-03-18T00:48:13.372067Z",
     "iopub.status.idle": "2024-03-18T01:34:48.153348Z",
     "shell.execute_reply": "2024-03-18T01:34:48.121299Z",
     "shell.execute_reply.started": "2024-03-18T00:48:13.372816Z"
    },
    "scrolled": true
   },
   "outputs": [
    {
     "name": "stderr",
     "output_type": "stream",
     "text": [
      "merge nodes for entities: 100%|████████████████████████████████████████████████████████████████████████| 99156/99156 [46:34<00:00, 35.48it/s]\n"
     ]
    }
   ],
   "source": [
    "query = \"\"\"\n",
    "MERGE (ent:Entity {uid: $params.uid, has_ref: $params.has_ref})\n",
    "\"\"\"\n",
    "\n",
    "with driver.session() as session:\n",
    "    for entity in tqdm(entities.values(), desc = \"merge nodes for entities\"):\n",
    "        params = {\n",
    "            \"uid\": entity.entity_id,\n",
    "            \"has_ref\": entity.has_ref,\n",
    "        }\n",
    "\n",
    "        session.run(\n",
    "            query,\n",
    "            params = params,\n",
    "        )"
   ]
  },
  {
   "cell_type": "code",
   "execution_count": 31,
   "id": "482c0ea8-4a8f-4070-9468-b73fa049c529",
   "metadata": {
    "execution": {
     "iopub.execute_input": "2024-03-18T00:40:44.108988Z",
     "iopub.status.busy": "2024-03-18T00:40:44.107029Z",
     "iopub.status.idle": "2024-03-18T00:40:51.500202Z",
     "shell.execute_reply": "2024-03-18T00:40:51.499049Z",
     "shell.execute_reply.started": "2024-03-18T00:40:44.108957Z"
    },
    "scrolled": true
   },
   "outputs": [
    {
     "name": "stderr",
     "output_type": "stream",
     "text": [
      "ic| entity: Entity(entity_id=1,\n",
      "                   num_recs=3,\n",
      "                   records={'DOL_WHISARD.7874', 'DOL_WHISARD.7631', 'DOL_WHISARD.7789'},\n",
      "                   related={113: {'ENTITY_ID': 113,\n",
      "                                  'ERRULE_CODE': 'CNAME',\n",
      "                                  'IS_AMBIGUOUS': 0,\n",
      "                                  'IS_DISCLOSED': 0,\n",
      "                                  'MATCH_KEY': '+NAME',\n",
      "                                  'MATCH_LEVEL': 2,\n",
      "                                  'MATCH_LEVEL_CODE': 'POSSIBLY_SAME',\n",
      "                                  'RECORDS': [{'DATA_SOURCE': 'DOL_WHISARD',\n",
      "                                               'RECORD_ID': '8898'},\n",
      "                                              {'DATA_SOURCE': 'DOL_WHISARD',\n",
      "                                               'RECORD_ID': '8903'},\n",
      "                                              {'DATA_SOURCE': 'DOL_WHISARD',\n",
      "                                               'RECORD_ID': '8128'},\n",
      "                                              {'DATA_SOURCE': 'DOL_WHISARD',\n",
      "                                               'RECORD_ID': '7816'},\n",
      "                                              {'DATA_SOURCE': 'DOL_WHISARD',\n",
      "                                               'RECORD_ID': '7795'},\n",
      "                                              {'DATA_SOURCE': 'DOL_WHISARD',\n",
      "                                               'RECORD_ID': '10591'},\n",
      "                                              {'DATA_SOURCE': 'DOL_WHISARD',\n",
      "                                               'RECORD_ID': '7536'}]},\n",
      "                            419714: {'ENTITY_ID': 419714,\n",
      "                                     'ERRULE_CODE': 'CFF',\n",
      "                                     'IS_AMBIGUOUS': 0,\n",
      "                                     'IS_DISCLOSED': 0,\n",
      "                                     'MATCH_KEY': '+ADDRESS',\n",
      "                                     'MATCH_LEVEL': 3,\n",
      "                                     'MATCH_LEVEL_CODE': 'POSSIBLY_RELATED',\n",
      "                                     'RECORDS': [{'DATA_SOURCE': 'SAFEGRAPH',\n",
      "                                                  'RECORD_ID': '222-224@5yv-j88-t5f'}]}},\n",
      "                   has_ref=True)\n"
     ]
    }
   ],
   "source": [
    "entity = list(entities.values())[0]\n",
    "ic(entity);"
   ]
  },
  {
   "cell_type": "markdown",
   "id": "14f3491c-09b5-46ab-80aa-e0d7865baaa4",
   "metadata": {
    "execution": {
     "iopub.execute_input": "2024-03-18T16:39:10.289069Z",
     "iopub.status.busy": "2024-03-18T16:39:10.286686Z",
     "iopub.status.idle": "2024-03-18T16:39:10.299516Z",
     "shell.execute_reply": "2024-03-18T16:39:10.298298Z",
     "shell.execute_reply.started": "2024-03-18T16:39:10.288998Z"
    }
   },
   "source": [
    "### Connect the resolved records and related entities"
   ]
  },
  {
   "cell_type": "code",
   "execution_count": 49,
   "id": "d12bdd32-014c-4b92-a172-f07be1f8b012",
   "metadata": {
    "execution": {
     "iopub.execute_input": "2024-03-18T16:13:10.304756Z",
     "iopub.status.busy": "2024-03-18T16:13:10.302634Z",
     "iopub.status.idle": "2024-03-18T16:17:05.755943Z",
     "shell.execute_reply": "2024-03-18T16:17:05.746441Z",
     "shell.execute_reply.started": "2024-03-18T16:13:10.304677Z"
    },
    "scrolled": true
   },
   "outputs": [
    {
     "name": "stderr",
     "output_type": "stream",
     "text": [
      "merge entity->record: 100%|███████████████████████████████████████████████████████████████████████████| 99156/99156 [03:55<00:00, 421.28it/s]\n"
     ]
    }
   ],
   "source": [
    "query = \"\"\"\n",
    "MATCH\n",
    "    (ent:Entity {uid: $params.entity_uid}),\n",
    "    (rec:Record {uid: $params.record_uid})       \n",
    "MERGE (ent)-[:RESOLVES]->(rec)\n",
    "\"\"\"\n",
    "\n",
    "with driver.session() as session:\n",
    "    for entity in tqdm(entities.values(), desc = \"merge entity->record\"):\n",
    "        for record_uid in entity.records:\n",
    "            params = {\n",
    "                \"entity_uid\": entity.entity_id,\n",
    "                \"record_uid\": record_uid,\n",
    "            }\n",
    "\n",
    "            session.run(\n",
    "                query,\n",
    "                params = params,\n",
    "            )"
   ]
  },
  {
   "cell_type": "code",
   "execution_count": 14,
   "id": "d4b40061-76a6-4a68-84e5-b86a4ae6a52d",
   "metadata": {
    "execution": {
     "iopub.execute_input": "2024-03-18T16:43:34.029434Z",
     "iopub.status.busy": "2024-03-18T16:43:34.028189Z",
     "iopub.status.idle": "2024-03-18T19:01:53.650822Z",
     "shell.execute_reply": "2024-03-18T19:01:53.607029Z",
     "shell.execute_reply.started": "2024-03-18T16:43:34.029402Z"
    },
    "scrolled": true
   },
   "outputs": [
    {
     "name": "stderr",
     "output_type": "stream",
     "text": [
      "merge entity->related: 100%|█████████████████████████████████████████████████████████████████████████| 99156/99156 [2:18:18<00:00, 11.95it/s]\n"
     ]
    }
   ],
   "source": [
    "query = \"\"\"\n",
    "MATCH\n",
    "    (ent:Entity {uid: $params.entity_uid}),\n",
    "    (rel_ent:Entity {uid: $params.rel_ent})       \n",
    "MERGE (ent)-[:RELATED {ambiguous: $params.ambiguous, disclosed: $params.disclosed, match_key: $params.match_key, match_level: $params.match_level, match_level_code: $params.match_level_code}]->(rel_ent)\n",
    "\"\"\"\n",
    "\n",
    "with driver.session() as session:\n",
    "    for entity in tqdm(entities.values(), desc = \"merge entity->related\"):\n",
    "        for rel_key, rel_ent in entity.related.items():\n",
    "            params = {\n",
    "                \"entity_uid\": entity.entity_id,\n",
    "                \"rel_ent\": rel_ent[\"ENTITY_ID\"],\n",
    "                \"ambiguous\": (rel_ent[\"IS_AMBIGUOUS\"] == 0),\n",
    "                \"disclosed\": (rel_ent[\"IS_DISCLOSED\"] == 0),\n",
    "                \"match_key\": rel_ent[\"MATCH_KEY\"],\n",
    "                \"match_level\": rel_ent[\"MATCH_LEVEL\"],\n",
    "                \"match_level_code\": rel_ent[\"MATCH_LEVEL_CODE\"],\n",
    "            }\n",
    "\n",
    "            session.run(\n",
    "                query,\n",
    "                params = params,\n",
    "            )"
   ]
  },
  {
   "cell_type": "code",
   "execution_count": 24,
   "id": "7c48bc06-194a-4b43-9837-9a8d0fe16c25",
   "metadata": {
    "execution": {
     "iopub.execute_input": "2024-03-18T19:18:12.184416Z",
     "iopub.status.busy": "2024-03-18T19:18:12.183684Z",
     "iopub.status.idle": "2024-03-18T19:18:12.779794Z",
     "shell.execute_reply": "2024-03-18T19:18:12.779198Z",
     "shell.execute_reply.started": "2024-03-18T19:18:12.184364Z"
    }
   },
   "outputs": [
    {
     "name": "stderr",
     "output_type": "stream",
     "text": [
      "ic| ent: <Record ent.uid=121 num_recs=15>\n",
      "ic| ent: <Record ent.uid=137 num_recs=11>\n",
      "ic| ent: <Record ent.uid=509 num_recs=10>\n",
      "ic| ent: <Record ent.uid=17 num_recs=8>\n",
      "ic| ent: <Record ent.uid=65 num_recs=7>\n",
      "ic| ent: <Record ent.uid=113 num_recs=7>\n",
      "ic| ent: <Record ent.uid=3 num_recs=6>\n",
      "ic| ent: <Record ent.uid=41 num_recs=6>\n",
      "ic| ent: <Record ent.uid=225 num_recs=6>\n",
      "ic| ent: <Record ent.uid=146 num_recs=6>\n",
      "ic| ent: <Record ent.uid=151 num_recs=5>\n",
      "ic| ent: <Record ent.uid=383 num_recs=5>\n",
      "ic| ent: <Record ent.uid=374 num_recs=5>\n",
      "ic| ent: <Record ent.uid=433 num_recs=4>\n",
      "ic| ent: <Record ent.uid=368 num_recs=4>\n",
      "ic| ent: <Record ent.uid=239 num_recs=4>\n",
      "ic| ent: <Record ent.uid=105 num_recs=4>\n",
      "ic| ent: <Record ent.uid=286 num_recs=4>\n",
      "ic| ent: <Record ent.uid=134 num_recs=4>\n",
      "ic| ent: <Record ent.uid=355 num_recs=4>\n"
     ]
    }
   ],
   "source": [
    "with driver.session() as session:\n",
    "    query = \"\"\"\n",
    "MATCH (ent:Entity)\n",
    "RETURN\n",
    "    ent.uid, COUNT { (ent)-[:RESOLVES]->(:Record) } AS num_recs\n",
    "ORDER BY num_recs DESC\n",
    "LIMIT 20\n",
    "    \"\"\"\n",
    "    \n",
    "    for ent in session.run(query):\n",
    "        ic(ent)"
   ]
  },
  {
   "cell_type": "code",
   "execution_count": null,
   "id": "9a4643ac-f78b-4cc2-87b2-fba34a712510",
   "metadata": {},
   "outputs": [],
   "source": []
  }
 ],
 "metadata": {
  "kernelspec": {
   "display_name": "Python 3 (ipykernel)",
   "language": "python",
   "name": "python3"
  },
  "language_info": {
   "codemirror_mode": {
    "name": "ipython",
    "version": 3
   },
   "file_extension": ".py",
   "mimetype": "text/x-python",
   "name": "python",
   "nbconvert_exporter": "python",
   "pygments_lexer": "ipython3",
   "version": "3.11.6"
  }
 },
 "nbformat": 4,
 "nbformat_minor": 5
}
