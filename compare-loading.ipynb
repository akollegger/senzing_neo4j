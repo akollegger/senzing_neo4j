{
 "cells": [
  {
   "cell_type": "code",
   "execution_count": null,
   "metadata": {},
   "outputs": [],
   "source": [
    "import os\n",
    "import dotenv\n",
    "import pandas as pd\n",
    "from graphdatascience import GraphDataScience\n",
    "\n",
    "dotenv.load_dotenv(dotenv.find_dotenv())\n",
    "\n",
    "# Load from environment\n",
    "NEO4J_URI = os.getenv('NEO4J_BOLT')\n",
    "NEO4J_USERNAME = os.getenv('NEO4J_USER')\n",
    "NEO4J_PASSWORD = os.getenv('NEO4J_PASS')\n",
    "\n",
    "DATA_FILE = f\"./data/form13.csv\"\n",
    "\n",
    "print(f\"Connecting to Neo4j at {NEO4J_URI} as {NEO4J_USERNAME}\")\n",
    "print(f\"Using data from {DATA_FILE}\")\n"
   ]
  },
  {
   "cell_type": "code",
   "execution_count": null,
   "metadata": {},
   "outputs": [],
   "source": [
    "gds = GraphDataScience(NEO4J_URI, auth=(NEO4J_USERNAME, NEO4J_PASSWORD))\n",
    "\n",
    "gds.run_cypher(\"RETURN 'hello' AS greeting\")"
   ]
  },
  {
   "cell_type": "code",
   "execution_count": null,
   "metadata": {},
   "outputs": [],
   "source": [
    "gds.run_cypher(\"\"\"\n",
    "CREATE CONSTRAINT `manager_node_key` IF NOT EXISTS\n",
    "  FOR (mgr:Manager)\n",
    "  REQUIRE mgr.cik IS NODE KEY\n",
    "\"\"\")"
   ]
  },
  {
   "cell_type": "code",
   "execution_count": null,
   "metadata": {},
   "outputs": [],
   "source": [
    "csv_df = pd.read_csv(DATA_FILE)\n",
    "\n",
    "# the csv has three entities per row: a management firm, a public company, and an investment\n",
    "# each row will become ==> (:Manager)-[:OWNS_STOCK_IN]->(:Company)\n",
    "csv_df.info()"
   ]
  },
  {
   "cell_type": "code",
   "execution_count": null,
   "metadata": {},
   "outputs": [],
   "source": [
    "merge_row_cypher = \"\"\"\n",
    "MERGE (mgr:Manager {cik: $row.managerCik})\n",
    "ON CREATE \n",
    "  SET mgr.name = $row.managerName,\n",
    "      mgr.address = $row.managerAddress\n",
    "MERGE (com:Company {cik: $row.cusip6})\n",
    "  ON CREATE\n",
    "    SET com.name = $row.companyName\n",
    "MERGE (mgr)-[:OWNS_STOCK_IN { shares: $row.shares, value: $row.value }]->(com)\n",
    "\"\"\""
   ]
  },
  {
   "cell_type": "code",
   "execution_count": null,
   "metadata": {},
   "outputs": [],
   "source": [
    "%%time\n",
    "for index, row in csv_df.iterrows():\n",
    "    gds.run_cypher(merge_row_cypher, {\"row\": row.to_dict()})"
   ]
  },
  {
   "cell_type": "code",
   "execution_count": null,
   "metadata": {},
   "outputs": [],
   "source": [
    "# count all the things\n",
    "mgrCount = gds.run_cypher(\"MATCH (mgr:Manager) RETURN count(*) as count\").iloc[0]\n",
    "comCount = gds.run_cypher(\"MATCH (com:Company) RETURN count(*) as count\").iloc[0]\n",
    "investmentCount = gds.run_cypher(\"MATCH (:Manager)-[:OWNS_STOCK_IN]->(:Company) RETURN count(*) as count\").iloc[0]\n",
    "\n",
    "print(f\"Loaded {mgrCount['count']} managers, {comCount['count']} companies, and {investmentCount['count']} investments\")"
   ]
  },
  {
   "cell_type": "code",
   "execution_count": null,
   "metadata": {},
   "outputs": [],
   "source": [
    "# delete all nodes and relationships\n",
    "gds.run_cypher(\"MATCH (n) DETACH DELETE n\")\n",
    "\n",
    "# delete the constraint\n",
    "gds.run_cypher(\"DROP CONSTRAINT `manager_node_key` IF EXISTS\")\n",
    "\n",
    "# create the constraint again\n",
    "gds.run_cypher(\"\"\"\n",
    "CREATE CONSTRAINT `manager_node_key` IF NOT EXISTS\n",
    "  FOR (mgr:Manager)\n",
    "  REQUIRE mgr.cik IS NODE KEY\n",
    "\"\"\")"
   ]
  },
  {
   "cell_type": "code",
   "execution_count": null,
   "metadata": {},
   "outputs": [],
   "source": [
    "%%time\n",
    "\n",
    "# \"UNWIND\" can turn a list like the $rows parameter into individual rows\n",
    "# combined with a sub-query it's almost like a batched for loop \n",
    "unwind_rows_then_merge = \"\"\"\n",
    "UNWIND $rows AS row\n",
    "CALL {\n",
    "  WITH row\n",
    "  MERGE (mgr:Manager {cik: row.managerCik})\n",
    "  ON CREATE \n",
    "    SET mgr.name = row.managerName,\n",
    "        mgr.address = row.managerAddress\n",
    "  MERGE (com:Company {cik: row.cusip6})\n",
    "    ON CREATE\n",
    "      SET com.name = row.companyName\n",
    "  MERGE (mgr)-[:OWNS_STOCK_IN { shares: row.shares, value: row.value }]->(com)\n",
    "} IN TRANSACTIONS OF 10000 ROWS\n",
    "\"\"\"\n",
    "\n",
    "gds.run_cypher(unwind_rows_then_merge, {\"rows\": csv_df.to_dict(orient='records')})"
   ]
  },
  {
   "cell_type": "code",
   "execution_count": null,
   "metadata": {},
   "outputs": [],
   "source": [
    "# count all the things\n",
    "mgrCount = gds.run_cypher(\"MATCH (mgr:Manager) RETURN count(*) as count\").iloc[0]\n",
    "comCount = gds.run_cypher(\"MATCH (com:Company) RETURN count(*) as count\").iloc[0]\n",
    "investmentCount = gds.run_cypher(\"MATCH (:Manager)-[:OWNS_STOCK_IN]->(:Company) RETURN count(*) as count\").iloc[0]\n",
    "\n",
    "print(f\"Loaded {mgrCount['count']} managers, {comCount['count']} companies, and {investmentCount['count']} investments\")"
   ]
  },
  {
   "cell_type": "code",
   "execution_count": null,
   "metadata": {},
   "outputs": [],
   "source": []
  }
 ],
 "metadata": {
  "kernelspec": {
   "display_name": "forloop-vs-unwind-jOHZIKZz-py3.11",
   "language": "python",
   "name": "python3"
  },
  "language_info": {
   "codemirror_mode": {
    "name": "ipython",
    "version": 3
   },
   "file_extension": ".py",
   "mimetype": "text/x-python",
   "name": "python",
   "nbconvert_exporter": "python",
   "pygments_lexer": "ipython3",
   "version": "3.11.6"
  }
 },
 "nbformat": 4,
 "nbformat_minor": 2
}
