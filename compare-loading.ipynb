{
 "cells": [
  {
   "cell_type": "code",
   "execution_count": 1,
   "metadata": {},
   "outputs": [
    {
     "name": "stdout",
     "output_type": "stream",
     "text": [
      "Connecting to Neo4j at neo4j://localhost:7687 as neo4j\n",
      "Using data from ./data/form13.csv\n"
     ]
    }
   ],
   "source": [
    "import os\n",
    "import dotenv\n",
    "import pandas as pd\n",
    "from graphdatascience import GraphDataScience\n",
    "\n",
    "dotenv.load_dotenv(dotenv.find_dotenv())\n",
    "\n",
    "# Load from environment\n",
    "NEO4J_URI = os.getenv('NEO4J_BOLT')\n",
    "NEO4J_USERNAME = os.getenv('NEO4J_USER')\n",
    "NEO4J_PASSWORD = os.getenv('NEO4J_PASS')\n",
    "\n",
    "DATA_FILE = f\"./data/form13.csv\"\n",
    "\n",
    "print(f\"Connecting to Neo4j at {NEO4J_URI} as {NEO4J_USERNAME}\")\n",
    "print(f\"Using data from {DATA_FILE}\")\n"
   ]
  },
  {
   "cell_type": "code",
   "execution_count": 2,
   "metadata": {},
   "outputs": [
    {
     "data": {
      "text/html": [
       "<div>\n",
       "<style scoped>\n",
       "    .dataframe tbody tr th:only-of-type {\n",
       "        vertical-align: middle;\n",
       "    }\n",
       "\n",
       "    .dataframe tbody tr th {\n",
       "        vertical-align: top;\n",
       "    }\n",
       "\n",
       "    .dataframe thead th {\n",
       "        text-align: right;\n",
       "    }\n",
       "</style>\n",
       "<table border=\"1\" class=\"dataframe\">\n",
       "  <thead>\n",
       "    <tr style=\"text-align: right;\">\n",
       "      <th></th>\n",
       "      <th>greeting</th>\n",
       "    </tr>\n",
       "  </thead>\n",
       "  <tbody>\n",
       "    <tr>\n",
       "      <th>0</th>\n",
       "      <td>hello</td>\n",
       "    </tr>\n",
       "  </tbody>\n",
       "</table>\n",
       "</div>"
      ],
      "text/plain": [
       "  greeting\n",
       "0    hello"
      ]
     },
     "execution_count": 2,
     "metadata": {},
     "output_type": "execute_result"
    }
   ],
   "source": [
    "gds = GraphDataScience(NEO4J_URI, auth=(NEO4J_USERNAME, NEO4J_PASSWORD))\n",
    "\n",
    "gds.run_cypher(\"RETURN 'hello' AS greeting\")"
   ]
  },
  {
   "cell_type": "code",
   "execution_count": 3,
   "metadata": {},
   "outputs": [
    {
     "data": {
      "text/html": [
       "<div>\n",
       "<style scoped>\n",
       "    .dataframe tbody tr th:only-of-type {\n",
       "        vertical-align: middle;\n",
       "    }\n",
       "\n",
       "    .dataframe tbody tr th {\n",
       "        vertical-align: top;\n",
       "    }\n",
       "\n",
       "    .dataframe thead th {\n",
       "        text-align: right;\n",
       "    }\n",
       "</style>\n",
       "<table border=\"1\" class=\"dataframe\">\n",
       "  <thead>\n",
       "    <tr style=\"text-align: right;\">\n",
       "      <th></th>\n",
       "    </tr>\n",
       "  </thead>\n",
       "  <tbody>\n",
       "  </tbody>\n",
       "</table>\n",
       "</div>"
      ],
      "text/plain": [
       "Empty DataFrame\n",
       "Columns: []\n",
       "Index: []"
      ]
     },
     "execution_count": 3,
     "metadata": {},
     "output_type": "execute_result"
    }
   ],
   "source": [
    "gds.run_cypher(\"\"\"\n",
    "CREATE CONSTRAINT `manager_node_key` IF NOT EXISTS\n",
    "  FOR (mgr:Manager)\n",
    "  REQUIRE mgr.cik IS NODE KEY\n",
    "\"\"\")"
   ]
  },
  {
   "cell_type": "code",
   "execution_count": 4,
   "metadata": {},
   "outputs": [
    {
     "name": "stdout",
     "output_type": "stream",
     "text": [
      "<class 'pandas.core.frame.DataFrame'>\n",
      "RangeIndex: 52496 entries, 0 to 52495\n",
      "Data columns (total 10 columns):\n",
      " #   Column                   Non-Null Count  Dtype  \n",
      "---  ------                   --------------  -----  \n",
      " 0   source                   52496 non-null  object \n",
      " 1   managerCik               52496 non-null  int64  \n",
      " 2   managerAddress           52496 non-null  object \n",
      " 3   managerName              52496 non-null  object \n",
      " 4   reportCalendarOrQuarter  52496 non-null  object \n",
      " 5   cusip6                   52496 non-null  object \n",
      " 6   cusip                    52496 non-null  object \n",
      " 7   companyName              52496 non-null  object \n",
      " 8   value                    52496 non-null  float64\n",
      " 9   shares                   52496 non-null  int64  \n",
      "dtypes: float64(1), int64(2), object(7)\n",
      "memory usage: 4.0+ MB\n"
     ]
    }
   ],
   "source": [
    "csv_df = pd.read_csv(DATA_FILE)\n",
    "\n",
    "# the csv has three entities per row: a management firm, a public company, and an investment\n",
    "# each row will become ==> (:Manager)-[:OWNS_STOCK_IN]->(:Company)\n",
    "csv_df.info()"
   ]
  },
  {
   "cell_type": "code",
   "execution_count": 5,
   "metadata": {},
   "outputs": [],
   "source": [
    "merge_row_cypher = \"\"\"\n",
    "MERGE (mgr:Manager {cik: $row.managerCik})\n",
    "ON CREATE \n",
    "  SET mgr.name = $row.managerName,\n",
    "      mgr.address = $row.managerAddress\n",
    "MERGE (com:Company {cik: $row.cusip6})\n",
    "  ON CREATE\n",
    "    SET com.name = $row.companyName\n",
    "MERGE (mgr)-[:OWNS_STOCK_IN { shares: $row.shares, value: $row.value }]->(com)\n",
    "\"\"\""
   ]
  },
  {
   "cell_type": "code",
   "execution_count": 6,
   "metadata": {},
   "outputs": [
    {
     "name": "stdout",
     "output_type": "stream",
     "text": [
      "CPU times: user 1min 40s, sys: 24.7 s, total: 2min 5s\n",
      "Wall time: 5min 49s\n"
     ]
    }
   ],
   "source": [
    "%%time\n",
    "for index, row in csv_df.iterrows():\n",
    "    gds.run_cypher(merge_row_cypher, {\"row\": row.to_dict()})"
   ]
  },
  {
   "cell_type": "code",
   "execution_count": 7,
   "metadata": {},
   "outputs": [
    {
     "name": "stdout",
     "output_type": "stream",
     "text": [
      "Loaded 4846 managers, 166 companies, and 52496 investments\n"
     ]
    }
   ],
   "source": [
    "# count all the things\n",
    "mgrCount = gds.run_cypher(\"MATCH (mgr:Manager) RETURN count(*) as count\").iloc[0]\n",
    "comCount = gds.run_cypher(\"MATCH (com:Company) RETURN count(*) as count\").iloc[0]\n",
    "investmentCount = gds.run_cypher(\"MATCH (:Manager)-[:OWNS_STOCK_IN]->(:Company) RETURN count(*) as count\").iloc[0]\n",
    "\n",
    "print(f\"Loaded {mgrCount['count']} managers, {comCount['count']} companies, and {investmentCount['count']} investments\")"
   ]
  },
  {
   "cell_type": "code",
   "execution_count": 8,
   "metadata": {},
   "outputs": [
    {
     "data": {
      "text/html": [
       "<div>\n",
       "<style scoped>\n",
       "    .dataframe tbody tr th:only-of-type {\n",
       "        vertical-align: middle;\n",
       "    }\n",
       "\n",
       "    .dataframe tbody tr th {\n",
       "        vertical-align: top;\n",
       "    }\n",
       "\n",
       "    .dataframe thead th {\n",
       "        text-align: right;\n",
       "    }\n",
       "</style>\n",
       "<table border=\"1\" class=\"dataframe\">\n",
       "  <thead>\n",
       "    <tr style=\"text-align: right;\">\n",
       "      <th></th>\n",
       "    </tr>\n",
       "  </thead>\n",
       "  <tbody>\n",
       "  </tbody>\n",
       "</table>\n",
       "</div>"
      ],
      "text/plain": [
       "Empty DataFrame\n",
       "Columns: []\n",
       "Index: []"
      ]
     },
     "execution_count": 8,
     "metadata": {},
     "output_type": "execute_result"
    }
   ],
   "source": [
    "# delete all nodes and relationships\n",
    "gds.run_cypher(\"MATCH (n) DETACH DELETE n\")"
   ]
  },
  {
   "cell_type": "code",
   "execution_count": 10,
   "metadata": {},
   "outputs": [
    {
     "name": "stdout",
     "output_type": "stream",
     "text": [
      "CPU times: user 2.27 s, sys: 78.5 ms, total: 2.35 s\n",
      "Wall time: 7.39 s\n"
     ]
    },
    {
     "data": {
      "text/html": [
       "<div>\n",
       "<style scoped>\n",
       "    .dataframe tbody tr th:only-of-type {\n",
       "        vertical-align: middle;\n",
       "    }\n",
       "\n",
       "    .dataframe tbody tr th {\n",
       "        vertical-align: top;\n",
       "    }\n",
       "\n",
       "    .dataframe thead th {\n",
       "        text-align: right;\n",
       "    }\n",
       "</style>\n",
       "<table border=\"1\" class=\"dataframe\">\n",
       "  <thead>\n",
       "    <tr style=\"text-align: right;\">\n",
       "      <th></th>\n",
       "    </tr>\n",
       "  </thead>\n",
       "  <tbody>\n",
       "  </tbody>\n",
       "</table>\n",
       "</div>"
      ],
      "text/plain": [
       "Empty DataFrame\n",
       "Columns: []\n",
       "Index: []"
      ]
     },
     "execution_count": 10,
     "metadata": {},
     "output_type": "execute_result"
    }
   ],
   "source": [
    "%%time\n",
    "\n",
    "# \"UNWIND\" can turn a list like the $rows parameter into individual rows\n",
    "# combined with a sub-query it's almost like a batched for loop \n",
    "unwind_rows_then_merge = \"\"\"\n",
    "UNWIND $rows AS row\n",
    "CALL {\n",
    "  WITH row\n",
    "  MERGE (mgr:Manager {cik: row.managerCik})\n",
    "  ON CREATE \n",
    "    SET mgr.name = row.managerName,\n",
    "        mgr.address = row.managerAddress\n",
    "  MERGE (com:Company {cik: row.cusip6})\n",
    "    ON CREATE\n",
    "      SET com.name = row.companyName\n",
    "  MERGE (mgr)-[:OWNS_STOCK_IN { shares: row.shares, value: row.value }]->(com)\n",
    "} IN TRANSACTIONS OF 10000 ROWS\n",
    "\"\"\"\n",
    "\n",
    "gds.run_cypher(unwind_rows_then_merge, {\"rows\": csv_df.to_dict(orient='records')})"
   ]
  },
  {
   "cell_type": "code",
   "execution_count": 11,
   "metadata": {},
   "outputs": [
    {
     "name": "stdout",
     "output_type": "stream",
     "text": [
      "Loaded 4846 managers, 166 companies, and 52496 investments\n"
     ]
    }
   ],
   "source": [
    "# count all the things\n",
    "mgrCount = gds.run_cypher(\"MATCH (mgr:Manager) RETURN count(*) as count\").iloc[0]\n",
    "comCount = gds.run_cypher(\"MATCH (com:Company) RETURN count(*) as count\").iloc[0]\n",
    "investmentCount = gds.run_cypher(\"MATCH (:Manager)-[:OWNS_STOCK_IN]->(:Company) RETURN count(*) as count\").iloc[0]\n",
    "\n",
    "print(f\"Loaded {mgrCount['count']} managers, {comCount['count']} companies, and {investmentCount['count']} investments\")"
   ]
  },
  {
   "cell_type": "code",
   "execution_count": null,
   "metadata": {},
   "outputs": [],
   "source": []
  }
 ],
 "metadata": {
  "kernelspec": {
   "display_name": "forloop-vs-unwind-jOHZIKZz-py3.11",
   "language": "python",
   "name": "python3"
  },
  "language_info": {
   "codemirror_mode": {
    "name": "ipython",
    "version": 3
   },
   "file_extension": ".py",
   "mimetype": "text/x-python",
   "name": "python",
   "nbconvert_exporter": "python",
   "pygments_lexer": "ipython3",
   "version": "3.11.6"
  }
 },
 "nbformat": 4,
 "nbformat_minor": 2
}
