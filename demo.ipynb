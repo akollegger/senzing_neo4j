{
 "cells": [
  {
   "cell_type": "markdown",
   "id": "7067d845-9121-47c1-8bc2-65db8f4d7004",
   "metadata": {},
   "source": [
    "# Senzing and Neo4j Integration Example"
   ]
  },
  {
   "cell_type": "markdown",
   "id": "78939f8c-3e2c-49b0-b447-213cccfd5ea6",
   "metadata": {
    "execution": {
     "iopub.execute_input": "2024-03-15T19:36:02.310335Z",
     "iopub.status.busy": "2024-03-15T19:36:02.303320Z",
     "iopub.status.idle": "2024-03-15T19:36:02.352513Z",
     "shell.execute_reply": "2024-03-15T19:36:02.348131Z",
     "shell.execute_reply.started": "2024-03-15T19:36:02.310230Z"
    }
   },
   "source": [
    "## Set up the Python environment"
   ]
  },
  {
   "cell_type": "markdown",
   "id": "ea7cc699-a3f7-4768-966a-a7fd77b825c4",
   "metadata": {},
   "source": [
    "First, we need to import the Python library dependencies which are required for the code we'll be running."
   ]
  },
  {
   "cell_type": "code",
   "execution_count": null,
   "id": "c55880de-2f5f-425d-bdfc-6a9cd19f9777",
   "metadata": {
    "execution": {
     "iopub.execute_input": "2024-03-18T19:10:10.311181Z",
     "iopub.status.busy": "2024-03-18T19:10:10.309994Z",
     "iopub.status.idle": "2024-03-18T19:10:10.477692Z",
     "shell.execute_reply": "2024-03-18T19:10:10.476009Z",
     "shell.execute_reply.started": "2024-03-18T19:10:10.311100Z"
    }
   },
   "outputs": [],
   "source": [
    "from dataclasses import dataclass, field\n",
    "import csv\n",
    "import json\n",
    "import os\n",
    "import pathlib\n",
    "import sys\n",
    "import typing\n",
    "\n",
    "from icecream import ic\n",
    "from tqdm import tqdm\n",
    "import dotenv\n",
    "import matplotlib.pyplot as plt\n",
    "import neo4j\n",
    "import pandas as pd\n",
    "import seaborn as sns\n",
    "import watermark\n",
    "\n",
    "%load_ext watermark"
   ]
  },
  {
   "cell_type": "markdown",
   "id": "11331aa0-be80-4de3-bed3-24beb12a57bc",
   "metadata": {},
   "source": [
    "Show a \"watermark\" of which versions are being used for system componenents and library dependencies. This may help in case you need to troubleshoot the dependencies on your system, e.g., if there's some conflict during installation."
   ]
  },
  {
   "cell_type": "code",
   "execution_count": null,
   "id": "e6a97a2f-e4c4-4086-9dec-bfbf680fd9b9",
   "metadata": {
    "execution": {
     "iopub.execute_input": "2024-03-18T16:36:29.241026Z",
     "iopub.status.busy": "2024-03-18T16:36:29.240620Z",
     "iopub.status.idle": "2024-03-18T16:36:29.301130Z",
     "shell.execute_reply": "2024-03-18T16:36:29.299679Z",
     "shell.execute_reply.started": "2024-03-18T16:36:29.240997Z"
    },
    "scrolled": true
   },
   "outputs": [],
   "source": [
    "%watermark\n",
    "%watermark --iversions"
   ]
  },
  {
   "cell_type": "markdown",
   "id": "db109f9d-8f09-44c5-9117-5481bf3ade78",
   "metadata": {
    "jp-MarkdownHeadingCollapsed": true
   },
   "source": [
    "## Examine the input datasets"
   ]
  },
  {
   "cell_type": "markdown",
   "id": "48eaa952-04e5-4370-a06e-2bed638da850",
   "metadata": {},
   "source": [
    "We will use three datasets which describe businesses (names, addresses, etc.) within the Las Vegas metropolitan area:\n",
    "\n",
    "  - SafeGraph `Places of Interest` (POI)\n",
    "  - US Dept of Labor `Wage and Hour Compliance Action Data` (WHISARD)\n",
    "  - US Small Business Administration `PPP Loans over $150K` (PPP)\n",
    "\n",
    "Two of these datasets are public, and one is available commercially.\n",
    "You can obtain each dataset from the links given below.\n",
    "\n",
    "Since we only need a subset of each dataset, first let's define a utility function to remove unneeded columns from a Pandas `DataFrame` object."
   ]
  },
  {
   "cell_type": "code",
   "execution_count": null,
   "id": "baa8e1ea-d76d-4346-b4ab-436ad800620e",
   "metadata": {
    "execution": {
     "iopub.execute_input": "2024-03-17T23:23:54.198412Z",
     "iopub.status.busy": "2024-03-17T23:23:54.197867Z",
     "iopub.status.idle": "2024-03-17T23:23:54.205985Z",
     "shell.execute_reply": "2024-03-17T23:23:54.204979Z",
     "shell.execute_reply.started": "2024-03-17T23:23:54.198375Z"
    }
   },
   "outputs": [],
   "source": [
    "def sample_df (\n",
    "    df: pd.DataFrame,\n",
    "    cols_keep: typing.Set[ typing.Any ],\n",
    "    ) -> pd.DataFrame:\n",
    "    \"\"\"\n",
    "Remove all but the specified columns from the given Pandas dataframe.\n",
    "https://stackoverflow.com/a/51285940/1698443\n",
    "    \"\"\"\n",
    "    diff: typing.Set[ typing.Any ] = set(df.columns) - cols_keep\n",
    "    \n",
    "    return df.drop(\n",
    "        diff,\n",
    "        axis = 1,\n",
    "        inplace = False,\n",
    "    )"
   ]
  },
  {
   "cell_type": "markdown",
   "id": "50342b7a-b0d3-4b19-be69-e596a0dada70",
   "metadata": {
    "execution": {
     "iopub.execute_input": "2024-03-15T18:27:12.719784Z",
     "iopub.status.busy": "2024-03-15T18:27:12.718521Z",
     "iopub.status.idle": "2024-03-15T18:27:12.783427Z",
     "shell.execute_reply": "2024-03-15T18:27:12.781099Z",
     "shell.execute_reply.started": "2024-03-15T18:27:12.719691Z"
    }
   },
   "source": [
    "### Load the SafeGraph Places dataset"
   ]
  },
  {
   "cell_type": "markdown",
   "id": "843500f6-d486-4f84-af2b-5bbdae81f91f",
   "metadata": {},
   "source": [
    "Load the `Places of Interest` (POI) dataset for Las Vegas, from SafeGraph: <https://www.safegraph.com/products/places>"
   ]
  },
  {
   "cell_type": "code",
   "execution_count": null,
   "id": "eee34144-9970-4654-a86b-e947ed8b1538",
   "metadata": {
    "execution": {
     "iopub.execute_input": "2024-03-17T23:23:54.206999Z",
     "iopub.status.busy": "2024-03-17T23:23:54.206794Z",
     "iopub.status.idle": "2024-03-17T23:23:55.369040Z",
     "shell.execute_reply": "2024-03-17T23:23:55.368251Z",
     "shell.execute_reply.started": "2024-03-17T23:23:54.206980Z"
    }
   },
   "outputs": [],
   "source": [
    "poi_path: pathlib.Path = pathlib.Path(\"lv_data\") / \"poi.json\"\n",
    "\n",
    "df_poi: pd.DataFrame = pd.DataFrame.from_dict(\n",
    "    [ json.loads(line) for line in poi_path.open(encoding = \"utf-8\") ],\n",
    ")"
   ]
  },
  {
   "cell_type": "code",
   "execution_count": null,
   "id": "52fd2d42-e978-4ed1-b5b3-1f871ec4c736",
   "metadata": {
    "execution": {
     "iopub.execute_input": "2024-03-17T23:23:55.370731Z",
     "iopub.status.busy": "2024-03-17T23:23:55.370401Z",
     "iopub.status.idle": "2024-03-17T23:23:55.414652Z",
     "shell.execute_reply": "2024-03-17T23:23:55.413972Z",
     "shell.execute_reply.started": "2024-03-17T23:23:55.370706Z"
    }
   },
   "outputs": [],
   "source": [
    "df = sample_df(\n",
    "    df_poi,\n",
    "    set([\n",
    "        \"RECORD_TYPE\",\n",
    "        \"DATA_SOURCE\",\n",
    "        \"RECORD_ID\",\n",
    "        \"LOCATION_NAME_ORG\",\n",
    "        \"TOP_CATEGORY\",\n",
    "        \"SUB_CATEGORY\",\n",
    "        \"NAICS_CODE\",\n",
    "        \"BUSINESS_GEO_LATITUDE\",\n",
    "        \"BUSINESS_GEO_LONGITUDE\",\n",
    "        \"PHONE_NUMBER\",\n",
    "        \"BUSINESS_ADDR_FULL\",\n",
    "    ]),\n",
    ")"
   ]
  },
  {
   "cell_type": "code",
   "execution_count": null,
   "id": "a5fd479b-ec61-4659-a993-a8fc32a5a97c",
   "metadata": {
    "execution": {
     "iopub.execute_input": "2024-03-17T23:23:55.415807Z",
     "iopub.status.busy": "2024-03-17T23:23:55.415532Z",
     "iopub.status.idle": "2024-03-17T23:23:55.440209Z",
     "shell.execute_reply": "2024-03-17T23:23:55.439081Z",
     "shell.execute_reply.started": "2024-03-17T23:23:55.415781Z"
    }
   },
   "outputs": [],
   "source": [
    "df.head()"
   ]
  },
  {
   "cell_type": "code",
   "execution_count": null,
   "id": "00474aab-6b33-44ae-b6cf-db390aa2e2ee",
   "metadata": {
    "execution": {
     "iopub.execute_input": "2024-03-17T23:23:55.442735Z",
     "iopub.status.busy": "2024-03-17T23:23:55.442107Z",
     "iopub.status.idle": "2024-03-17T23:23:56.169487Z",
     "shell.execute_reply": "2024-03-17T23:23:56.168741Z",
     "shell.execute_reply.started": "2024-03-17T23:23:55.442691Z"
    }
   },
   "outputs": [],
   "source": [
    "df.describe().loc[[ \"count\", \"freq\", \"unique\", ]]"
   ]
  },
  {
   "cell_type": "markdown",
   "id": "b31d2eb4-3c9a-40e4-805f-f2da6b6885b9",
   "metadata": {},
   "source": [
    "### Load the DoL WHISARD dataset"
   ]
  },
  {
   "cell_type": "markdown",
   "id": "17419ba0-c66c-489c-bfd4-0fc5f5ea7f13",
   "metadata": {},
   "source": [
    "Load the `Wage and Hour Compliance Action Data` (WHISARD) dataset for Las Vegas, from the US Department of Labor: <https://enforcedata.dol.gov/views/data_summary.php>"
   ]
  },
  {
   "cell_type": "code",
   "execution_count": null,
   "id": "57501d05-56c6-4b23-92fd-1872332f74a4",
   "metadata": {
    "execution": {
     "iopub.execute_input": "2024-03-17T23:23:56.171061Z",
     "iopub.status.busy": "2024-03-17T23:23:56.170793Z",
     "iopub.status.idle": "2024-03-17T23:23:56.222771Z",
     "shell.execute_reply": "2024-03-17T23:23:56.221867Z",
     "shell.execute_reply.started": "2024-03-17T23:23:56.171039Z"
    }
   },
   "outputs": [],
   "source": [
    "dol_path: pathlib.Path = pathlib.Path(\"lv_data\") / \"dol.csv\"\n",
    "\n",
    "df_dol: pd.DataFrame = pd.read_csv(\n",
    "    dol_path,\n",
    "    dtype = str,\n",
    "    encoding = \"utf-8\",\n",
    ")"
   ]
  },
  {
   "cell_type": "code",
   "execution_count": null,
   "id": "888df916-f2b4-4a0f-af38-196a0b46af7f",
   "metadata": {
    "execution": {
     "iopub.execute_input": "2024-03-17T23:23:56.224260Z",
     "iopub.status.busy": "2024-03-17T23:23:56.224010Z",
     "iopub.status.idle": "2024-03-17T23:23:56.229117Z",
     "shell.execute_reply": "2024-03-17T23:23:56.228234Z",
     "shell.execute_reply.started": "2024-03-17T23:23:56.224240Z"
    }
   },
   "outputs": [],
   "source": [
    "df = sample_df(\n",
    "    df_dol,\n",
    "    set([\n",
    "        \"RECORD_TYPE\",\n",
    "        \"DATA_SOURCE\",\n",
    "        \"RECORD_ID\",\n",
    "        \"BUSINESS_NAME_ORG\",\n",
    "        \"LEGAL_NAME_ORG\",\n",
    "        \"BUSINESS_ADDR_LINE1\",\n",
    "        \"BUSINESS_ADDR_CITY\",\n",
    "        \"BUSINESS_ADDR_STATE\",\n",
    "        \"BUSINESS_ADDR_POSTAL_CODE\",\n",
    "    ]),\n",
    ")"
   ]
  },
  {
   "cell_type": "code",
   "execution_count": null,
   "id": "0600b1f6-0e12-435d-9c62-97f6b471225a",
   "metadata": {
    "execution": {
     "iopub.execute_input": "2024-03-17T23:23:56.230709Z",
     "iopub.status.busy": "2024-03-17T23:23:56.230343Z",
     "iopub.status.idle": "2024-03-17T23:23:56.241226Z",
     "shell.execute_reply": "2024-03-17T23:23:56.240495Z",
     "shell.execute_reply.started": "2024-03-17T23:23:56.230683Z"
    }
   },
   "outputs": [],
   "source": [
    "df.head()"
   ]
  },
  {
   "cell_type": "code",
   "execution_count": null,
   "id": "e6306158-76ca-46df-afb9-8846f3fb11cd",
   "metadata": {
    "execution": {
     "iopub.execute_input": "2024-03-17T23:23:56.242417Z",
     "iopub.status.busy": "2024-03-17T23:23:56.242212Z",
     "iopub.status.idle": "2024-03-17T23:23:56.278494Z",
     "shell.execute_reply": "2024-03-17T23:23:56.276910Z",
     "shell.execute_reply.started": "2024-03-17T23:23:56.242398Z"
    }
   },
   "outputs": [],
   "source": [
    "df.describe().loc[[ \"count\", \"freq\", \"unique\", ]]"
   ]
  },
  {
   "cell_type": "markdown",
   "id": "cf98bf73-d0ae-4620-a8b4-b2d8f168e731",
   "metadata": {},
   "source": [
    "### Load the PPP Loans dataset"
   ]
  },
  {
   "cell_type": "markdown",
   "id": "3a378837-47e3-491c-9de3-335250b3b0e1",
   "metadata": {},
   "source": [
    "Load the `PPP Loans over $150K` (PPP) dataset for Las Vegas, from the US Small Business Administration: <https://data.sba.gov/dataset/ppp-foia>"
   ]
  },
  {
   "cell_type": "code",
   "execution_count": null,
   "id": "525eb7a0-b977-41fb-9711-f4032107b6d3",
   "metadata": {
    "execution": {
     "iopub.execute_input": "2024-03-17T23:23:56.286299Z",
     "iopub.status.busy": "2024-03-17T23:23:56.285868Z",
     "iopub.status.idle": "2024-03-17T23:23:56.348693Z",
     "shell.execute_reply": "2024-03-17T23:23:56.347881Z",
     "shell.execute_reply.started": "2024-03-17T23:23:56.286270Z"
    }
   },
   "outputs": [],
   "source": [
    "ppp_path: pathlib.Path = pathlib.Path(\"lv_data\") / \"ppp.csv\"\n",
    "\n",
    "df_ppp: pd.DataFrame = pd.read_csv(\n",
    "    ppp_path,\n",
    "    dtype = str,\n",
    "    encoding = \"utf-8\",\n",
    ")"
   ]
  },
  {
   "cell_type": "code",
   "execution_count": null,
   "id": "86bb0474-20ea-4036-ba17-9b31fd4fe7be",
   "metadata": {
    "execution": {
     "iopub.execute_input": "2024-03-17T23:23:56.351042Z",
     "iopub.status.busy": "2024-03-17T23:23:56.350423Z",
     "iopub.status.idle": "2024-03-17T23:23:56.375377Z",
     "shell.execute_reply": "2024-03-17T23:23:56.374615Z",
     "shell.execute_reply.started": "2024-03-17T23:23:56.350958Z"
    }
   },
   "outputs": [],
   "source": [
    "df_ppp.head()"
   ]
  },
  {
   "cell_type": "code",
   "execution_count": null,
   "id": "70ffd1ac-5e7e-44e9-b1ea-a1a1d48e22f8",
   "metadata": {
    "execution": {
     "iopub.execute_input": "2024-03-17T23:23:56.378140Z",
     "iopub.status.busy": "2024-03-17T23:23:56.377416Z",
     "iopub.status.idle": "2024-03-17T23:23:56.443919Z",
     "shell.execute_reply": "2024-03-17T23:23:56.442830Z",
     "shell.execute_reply.started": "2024-03-17T23:23:56.378108Z"
    }
   },
   "outputs": [],
   "source": [
    "df_ppp.describe().loc[[ \"count\", \"freq\", \"unique\", ]]"
   ]
  },
  {
   "cell_type": "markdown",
   "id": "f46c300b-4fd8-42b2-886b-71e3723396bb",
   "metadata": {
    "jp-MarkdownHeadingCollapsed": true
   },
   "source": [
    "## Run the Entity Resolution in Senzing"
   ]
  },
  {
   "cell_type": "markdown",
   "id": "87603262-cd0e-408f-a8cb-435398a06bef",
   "metadata": {},
   "source": [
    "Launch a Linux server running Ubuntu 20.04 LTS server with 4 vCPU, 16 GB memory.\n",
    "\n",
    "See: <https://senzing.zendesk.com/hc/en-us/articles/115002408867-Quickstart-Guide>\n",
    "\n",
    "```bash\n",
    "wget https://senzing-production-apt.s3.amazonaws.com/senzingrepo_1.0.1-1_amd64.deb\n",
    "sudo apt install ./senzingrepo_1.0.1-1_amd64.deb\n",
    "sudo apt update\n",
    "sudo apt upgrade\n",
    "```\n",
    "\n",
    "Depending on the Linux distribution, this may require installing `libssl1.1` as well, which is described in\n",
    "<https://stackoverflow.com/questions/73251468/e-package-libssl1-1-has-no-installation-candidate>:\n",
    "\n",
    "```bash\n",
    "wget http://archive.ubuntu.com/ubuntu/pool/main/o/openssl/libssl1.1_1.1.1f-1ubuntu2_amd64.deb\n",
    "sudo dpkg -i libssl1.1_1.1.1f-1ubuntu2_amd64.deb\n",
    "```\n",
    "\n",
    "Then install Senzing, which will be located in the `/opt/senzing/data/current` directory:\n",
    "\n",
    "```bash\n",
    "sudo apt install senzingapi\n",
    "```"
   ]
  },
  {
   "cell_type": "markdown",
   "id": "7c50cc38-e5c5-468a-affc-fef30d843234",
   "metadata": {},
   "source": [
    "Now create a project `~/senzing` in the current user's home directory and set up its configuration:\n",
    "\n",
    "```bash\n",
    "python3 /opt/senzing/g2/python/G2CreateProject.py ~/senzing\n",
    "cd ~/senzing\n",
    "source setupEnv\n",
    "./python/G2SetupConfig.py\n",
    "```"
   ]
  },
  {
   "cell_type": "markdown",
   "id": "89fe4548-1b0e-42c9-a962-047b40dcc4eb",
   "metadata": {},
   "source": [
    "Prepare to load our three datasets into Senzing as data sources:\n",
    "\n",
    "```bash\n",
    "./python/G2ConfigTool.py\n",
    "\t+ addDataSource SAFEGRAPH\n",
    "\t+ addDataSource DOL_WHISARD\n",
    "\t+ addDataSource PPP_LOANS\n",
    "\t+ save\n",
    "\t+ y\n",
    "\t+ quit\n",
    "```\n",
    "\n",
    "We'll specify using up to 16 threads, to parallelize the input process:\n",
    "\n",
    "```bash\n",
    "./python/G2Loader.py -f lv_data/poi.json -nt 16\n",
    "./python/G2Loader.py -f lv_data/dol.csv -nt 16\n",
    "./python/G2Loader.py -f lv_data/ppp.csv -nt 16\n",
    "```\n",
    "\n",
    "Finally, export the resolved entities as the `export.json` local file:\n",
    "\n",
    "```bash\n",
    "./python/G2Export.py -F JSON -o export.json\n",
    "```"
   ]
  },
  {
   "cell_type": "markdown",
   "id": "81a703a2-d9c4-4b73-8191-7b87398cb6e6",
   "metadata": {},
   "source": [
    "## Parse the results from Senzing"
   ]
  },
  {
   "cell_type": "markdown",
   "id": "c7056f3e-a3cd-478b-ae67-c791ad457dda",
   "metadata": {},
   "source": [
    "Let's define a `dataclass` to represent the parsed results from Senzing entity resolution."
   ]
  },
  {
   "cell_type": "code",
   "execution_count": null,
   "id": "e5aab1cb-0dbe-4f3c-8fc1-0235207a88a9",
   "metadata": {
    "execution": {
     "iopub.execute_input": "2024-03-18T16:37:07.170156Z",
     "iopub.status.busy": "2024-03-18T16:37:07.169418Z",
     "iopub.status.idle": "2024-03-18T16:37:07.205656Z",
     "shell.execute_reply": "2024-03-18T16:37:07.201759Z",
     "shell.execute_reply.started": "2024-03-18T16:37:07.170102Z"
    }
   },
   "outputs": [],
   "source": [
    "@dataclass(order=False, frozen=False)\n",
    "class Entity:  # pylint: disable=R0902\n",
    "    \"\"\"\n",
    "A data class representing a resolved entity.\n",
    "    \"\"\"\n",
    "    entity_id: id\n",
    "    num_recs: int\n",
    "    records: typing.Set[ str ] = field(default_factory = lambda: set([]))\n",
    "    related: typing.Dict[ int, dict ] = field(default_factory = lambda: {})\n",
    "    has_ref: bool = False"
   ]
  },
  {
   "cell_type": "markdown",
   "id": "425c50d3-3646-4b50-a1e8-3891d8fb7c60",
   "metadata": {},
   "source": [
    "Parse the JSON data from the export, to build a dictionary of entities indexed by their unique identifiers. Also keep track of both the \"resolved\" and \"related\" records for each entity, to use for constructing the knowledge graph from these results."
   ]
  },
  {
   "cell_type": "code",
   "execution_count": null,
   "id": "3d4c51f4-55d0-4c24-912d-dbd4f84441cf",
   "metadata": {
    "execution": {
     "iopub.execute_input": "2024-03-18T16:37:12.511626Z",
     "iopub.status.busy": "2024-03-18T16:37:12.510830Z",
     "iopub.status.idle": "2024-03-18T16:37:16.044502Z",
     "shell.execute_reply": "2024-03-18T16:37:16.043776Z",
     "shell.execute_reply.started": "2024-03-18T16:37:12.511591Z"
    }
   },
   "outputs": [],
   "source": [
    "export_path: pathlib.Path = pathlib.Path(\"export.json\")\n",
    "entities: dict = {}\n",
    "\n",
    "with export_path.open() as fp:\n",
    "    for line in tqdm(fp.readlines(), desc = \"read JSON\"):\n",
    "        entity_dat: dict = json.loads(line)\n",
    "        entity_id: int = entity_dat[\"RESOLVED_ENTITY\"][\"ENTITY_ID\"]\n",
    "\n",
    "        records: set = set([\n",
    "            \".\".join([ r[\"DATA_SOURCE\"], r[\"RECORD_ID\"] ]).upper()\n",
    "            for r in entity_dat[\"RESOLVED_ENTITY\"][\"RECORDS\"]\n",
    "        ])\n",
    "\n",
    "        entities[entity_id] = Entity(\n",
    "            entity_id = entity_id,\n",
    "            records = records,\n",
    "            num_recs = len(records),\n",
    "            related = {\n",
    "                r[\"ENTITY_ID\"]: r\n",
    "                for r in entity_dat[\"RELATED_ENTITIES\"]\n",
    "            },\n",
    "        )"
   ]
  },
  {
   "cell_type": "markdown",
   "id": "929fc59f-8f76-4fd0-a99e-10176e0922df",
   "metadata": {},
   "source": [
    "Let's examine one of the resolved entity objects, to see which fields are available"
   ]
  },
  {
   "cell_type": "code",
   "execution_count": null,
   "id": "b330e219-6766-4551-ba58-eb8745db7899",
   "metadata": {
    "execution": {
     "iopub.execute_input": "2024-03-18T16:37:17.542965Z",
     "iopub.status.busy": "2024-03-18T16:37:17.542556Z",
     "iopub.status.idle": "2024-03-18T16:37:17.554112Z",
     "shell.execute_reply": "2024-03-18T16:37:17.553269Z",
     "shell.execute_reply.started": "2024-03-18T16:37:17.542938Z"
    }
   },
   "outputs": [],
   "source": [
    "entity_dat"
   ]
  },
  {
   "cell_type": "markdown",
   "id": "da90a1fa-ab92-4976-bee9-a1c467d78173",
   "metadata": {},
   "source": [
    "Now let's analyze the Senzing results, measuring how much the process of _entity resolution_ has consolidated records among the input datasets."
   ]
  },
  {
   "cell_type": "code",
   "execution_count": null,
   "id": "085ccd7c-231f-4f99-90b9-1bc00a9cdb29",
   "metadata": {
    "execution": {
     "iopub.execute_input": "2024-03-18T16:37:22.770842Z",
     "iopub.status.busy": "2024-03-18T16:37:22.770301Z",
     "iopub.status.idle": "2024-03-18T16:37:22.874727Z",
     "shell.execute_reply": "2024-03-18T16:37:22.873241Z",
     "shell.execute_reply.started": "2024-03-18T16:37:22.770791Z"
    }
   },
   "outputs": [],
   "source": [
    "for entity in entities.values():\n",
    "    if entity.num_recs > 1:\n",
    "        entity.has_ref = True\n",
    "\n",
    "        for inf_ent in entity.related.keys():\n",
    "            entities[inf_ent].has_ref = True\n",
    "\n",
    "edge_counts: typing.List[ int ] = [\n",
    "    e.num_recs\n",
    "    for e in entities.values()\n",
    "    #if e.num_recs > 1\n",
    "]\n",
    "\n",
    "has_ref_ents: int = len([\n",
    "    e for e in entities.values()\n",
    "    if e.has_ref\n",
    "])"
   ]
  },
  {
   "cell_type": "markdown",
   "id": "ff757fce-c8d2-4b19-84bf-332ac00d5636",
   "metadata": {},
   "source": [
    "In particular, it's helpful for planning about our eventual knowledge graph to understand the:\n",
    "\n",
    "  - total number of entities\n",
    "  - number of entities which have references (i.e., these will be linked within the knowledge graph)"
   ]
  },
  {
   "cell_type": "code",
   "execution_count": null,
   "id": "0e8c6d36-a02e-45ee-b704-e5cf7e75ba26",
   "metadata": {
    "execution": {
     "iopub.execute_input": "2024-03-18T16:37:24.415873Z",
     "iopub.status.busy": "2024-03-18T16:37:24.415412Z",
     "iopub.status.idle": "2024-03-18T16:37:24.556852Z",
     "shell.execute_reply": "2024-03-18T16:37:24.556094Z",
     "shell.execute_reply.started": "2024-03-18T16:37:24.415835Z"
    }
   },
   "outputs": [],
   "source": [
    "ic(len(entities))\n",
    "ic(has_ref_ents);"
   ]
  },
  {
   "cell_type": "markdown",
   "id": "d65c19ae-ae59-4efb-9556-4f1186cea67d",
   "metadata": {},
   "source": [
    "Now visualize this as a histogram of the resolved entities versus their related records in the input datasets."
   ]
  },
  {
   "cell_type": "code",
   "execution_count": null,
   "id": "693ad2a5-4889-4a8c-9ecd-793e9e5454bc",
   "metadata": {
    "execution": {
     "iopub.execute_input": "2024-03-18T16:37:26.467116Z",
     "iopub.status.busy": "2024-03-18T16:37:26.465794Z",
     "iopub.status.idle": "2024-03-18T16:37:27.332969Z",
     "shell.execute_reply": "2024-03-18T16:37:27.331886Z",
     "shell.execute_reply.started": "2024-03-18T16:37:26.467064Z"
    }
   },
   "outputs": [],
   "source": [
    "fig, ax = plt.subplots()\n",
    "plt.rcParams[\"font.family\"] = \"sans-serif\"\n",
    "\n",
    "y = sns.countplot(x = edge_counts, color = \"lightblue\")\n",
    "\n",
    "y.tick_params(axis = \"y\", size = 9, colors = \"gray\")\n",
    "y.bar_label(y.containers[0], padding = 3, color = \"black\", fontsize = 11)\n",
    "\n",
    "plt.xlabel(\"records per entity\", size = 10, fontstyle = \"italic\")\n",
    "plt.ylabel(\"num entities\", size = 10, fontstyle = \"italic\")\n",
    "\n",
    "sns.despine(bottom = True, left = True)\n",
    "plt.yscale(\"log\")"
   ]
  },
  {
   "cell_type": "markdown",
   "id": "93c2860f-e401-4091-9ecb-684f325e8fa9",
   "metadata": {},
   "source": [
    "From this analysis, more than 14K entities were linked to records through _entity resolution_.\n",
    "These can be used to construct _nodes_, _properties_, and _relations_ in a knowledge graph."
   ]
  },
  {
   "cell_type": "code",
   "execution_count": null,
   "id": "b19b2392-5380-4ae7-a862-0593a125046c",
   "metadata": {
    "execution": {
     "iopub.execute_input": "2024-03-18T16:37:30.555046Z",
     "iopub.status.busy": "2024-03-18T16:37:30.554738Z",
     "iopub.status.idle": "2024-03-18T16:37:30.562851Z",
     "shell.execute_reply": "2024-03-18T16:37:30.560666Z",
     "shell.execute_reply.started": "2024-03-18T16:37:30.555024Z"
    }
   },
   "outputs": [],
   "source": [
    "num_rel_2: int = 3437\n",
    "has_ref_ents - num_rel_2"
   ]
  },
  {
   "cell_type": "markdown",
   "id": "b40dcffd-81d3-4d3a-ae3b-7695a97fe233",
   "metadata": {},
   "source": [
    "Of the linked entities, more than 10K have three or more records linked.\n",
    "This is interesting since we're trying to link records across three datasets.\n",
    "We'll get more specific stats later through Cypher graph queries in Neo4j."
   ]
  },
  {
   "cell_type": "markdown",
   "id": "c973c13e-97b9-410d-9b83-4d0118b77be5",
   "metadata": {},
   "source": [
    "## Build a Knowledge Graph in Neo4j"
   ]
  },
  {
   "cell_type": "markdown",
   "id": "8c5d05ec-df26-4b10-91af-ff431ea64593",
   "metadata": {},
   "source": [
    "Set up a Bolt driver using our credentials for Neo4j Desktop"
   ]
  },
  {
   "cell_type": "code",
   "execution_count": null,
   "id": "cc6918f4-d9f3-43a2-9cb9-726b03d2a2d0",
   "metadata": {
    "execution": {
     "iopub.execute_input": "2024-03-18T19:10:18.883943Z",
     "iopub.status.busy": "2024-03-18T19:10:18.883342Z",
     "iopub.status.idle": "2024-03-18T19:10:19.014617Z",
     "shell.execute_reply": "2024-03-18T19:10:19.013890Z",
     "shell.execute_reply.started": "2024-03-18T19:10:18.883909Z"
    }
   },
   "outputs": [],
   "source": [
    "dotenv.load_dotenv(dotenv.find_dotenv())\n",
    "\n",
    "bolt_uri: str = os.environ.get(\"NEO4J_BOLT\")\n",
    "username: str = os.environ.get(\"NEO4J_USER\")\n",
    "password: str = os.environ.get(\"NEO4J_PASS\")\n",
    "\n",
    "driver: neo4j.BoltDriver = neo4j.GraphDatabase.driver(\n",
    "    bolt_uri,\n",
    "    auth = ( username, password, ),\n",
    ")"
   ]
  },
  {
   "cell_type": "markdown",
   "id": "3aaf2d9f-3ea9-476a-9cf8-b32941618f5c",
   "metadata": {},
   "source": [
    "Delete the previous graph data..."
   ]
  },
  {
   "cell_type": "code",
   "execution_count": null,
   "id": "3ea4f2b6-7243-42af-b6d6-2b45eab18bb8",
   "metadata": {
    "execution": {
     "iopub.execute_input": "2024-03-17T23:24:01.145805Z",
     "iopub.status.busy": "2024-03-17T23:24:01.145497Z",
     "iopub.status.idle": "2024-03-17T23:24:01.149389Z",
     "shell.execute_reply": "2024-03-17T23:24:01.148644Z",
     "shell.execute_reply.started": "2024-03-17T23:24:01.145787Z"
    }
   },
   "outputs": [],
   "source": [
    "with driver.session() as session:\n",
    "    #session.run(\"MATCH (x) DETACH DELETE x\")\n",
    "    #session.run(\"DROP CONSTRAINT unique_record\")\n",
    "    #session.run(\"DROP CONSTRAINT unique_entity\")\n",
    "    pass"
   ]
  },
  {
   "cell_type": "code",
   "execution_count": null,
   "id": "01edd839-d90d-4959-bf1f-e1cf6de83457",
   "metadata": {
    "execution": {
     "iopub.execute_input": "2024-03-17T23:24:01.150371Z",
     "iopub.status.busy": "2024-03-17T23:24:01.150100Z",
     "iopub.status.idle": "2024-03-17T23:24:02.442446Z",
     "shell.execute_reply": "2024-03-17T23:24:02.440803Z",
     "shell.execute_reply.started": "2024-03-17T23:24:01.150340Z"
    }
   },
   "outputs": [],
   "source": [
    "with driver.session() as session:\n",
    "    query: str = \"\"\"\n",
    "CREATE CONSTRAINT unique_record \n",
    "    IF NOT EXISTS FOR (rec:Record) \n",
    "    REQUIRE rec.uid IS UNIQUE\n",
    "    \"\"\"\n",
    "    \n",
    "    session.run(query)\n",
    "\n",
    "    query = \"\"\"\n",
    "CREATE CONSTRAINT unique_entity \n",
    "    IF NOT EXISTS FOR (ent:Entity) \n",
    "    REQUIRE ent.uid IS UNIQUE\n",
    "    \"\"\"\n",
    "    \n",
    "    session.run(query)"
   ]
  },
  {
   "cell_type": "markdown",
   "id": "85f05249-3a5d-4026-8649-d6a4ff061bdd",
   "metadata": {
    "jp-MarkdownHeadingCollapsed": true
   },
   "source": [
    "### Populate nodes from the dataset records"
   ]
  },
  {
   "cell_type": "markdown",
   "id": "af2f9e52-e221-4707-8992-adb1fdc684db",
   "metadata": {},
   "source": [
    "Define utility functions used for loading the graph data."
   ]
  },
  {
   "cell_type": "code",
   "execution_count": null,
   "id": "67482f89-7d4e-43e5-89ce-eb7f1cd08da4",
   "metadata": {
    "execution": {
     "iopub.execute_input": "2024-03-17T23:24:02.444585Z",
     "iopub.status.busy": "2024-03-17T23:24:02.444151Z",
     "iopub.status.idle": "2024-03-17T23:24:02.452372Z",
     "shell.execute_reply": "2024-03-17T23:24:02.450901Z",
     "shell.execute_reply.started": "2024-03-17T23:24:02.444547Z"
    }
   },
   "outputs": [],
   "source": [
    "def get_property_keys (\n",
    "    df: pd.DataFrame,\n",
    "    ) -> typing.List[ str ]:\n",
    "    \"\"\"\n",
    "Convert the column names from the given Pandas dataframe into Cypher property names.\n",
    "    \"\"\"\n",
    "    return [\n",
    "        name.lower().replace(\" \", \"_\")\n",
    "        for name in df.columns.values.tolist()\n",
    "    ]\n",
    "\n",
    "\n",
    "def safe_value (\n",
    "    obj: typing.Any,\n",
    "    ) -> typing.Any:\n",
    "    \"\"\"\n",
    "Escape double quotes within string values.\n",
    "    \"\"\"\n",
    "    if isinstance(obj, str):\n",
    "        return obj.replace('\"', \"'\")\n",
    "\n",
    "    return obj"
   ]
  },
  {
   "cell_type": "code",
   "execution_count": null,
   "id": "7a6992d6-a119-40c1-ae75-fa43cc869daa",
   "metadata": {
    "execution": {
     "iopub.execute_input": "2024-03-17T23:24:02.454453Z",
     "iopub.status.busy": "2024-03-17T23:24:02.453966Z",
     "iopub.status.idle": "2024-03-17T23:24:02.462963Z",
     "shell.execute_reply": "2024-03-17T23:24:02.461886Z",
     "shell.execute_reply.started": "2024-03-17T23:24:02.454422Z"
    }
   },
   "outputs": [],
   "source": [
    "def format_merge_record (\n",
    "    keys: typing.List[ str ],\n",
    "    vals: list,\n",
    "    ) -> str:\n",
    "    \"\"\"\n",
    "Format one MERGE statement in Cypher for the values of a given Record.\n",
    "    \"\"\"\n",
    "    safe_vals = [ safe_value(v) for v in vals ]\n",
    "    row_dict: dict = dict(zip(keys, safe_vals))\n",
    "\n",
    "    uid: str = row_dict[\"data_source\"].upper() + \".\" + row_dict[\"record_id\"]\n",
    "    \n",
    "    props: str = \", \".join([\n",
    "        f\"rec.{key} = \\\"{val}\\\"\"\n",
    "        for key, val in row_dict.items()\n",
    "    ])\n",
    "\n",
    "    return f\"\"\"\n",
    "MERGE (rec:Record {{ uid: \\\"{uid}\\\" }})\n",
    "  ON CREATE\n",
    "    SET {props}      \n",
    "RETURN rec.data_source, rec.record_id\n",
    "    \"\"\"\n",
    "\n",
    "\n",
    "def load_records (\n",
    "    session: neo4j.Session,\n",
    "    df: pd.DataFrame,\n",
    "    ) -> None:\n",
    "    \"\"\"\n",
    "Iterate over each Record from one dataset to load using Cypher.\n",
    "    \"\"\"\n",
    "    keys: typing.List[ str ] = get_property_keys(df)\n",
    "\n",
    "    for _, row in tqdm(df.iterrows(), desc = \"merge nodes for records\"):\n",
    "        query: str = format_merge_record(keys, row.tolist())\n",
    "        session.run(query)"
   ]
  },
  {
   "cell_type": "code",
   "execution_count": null,
   "id": "378edc57-2309-4fcd-a359-233bb70f9574",
   "metadata": {
    "execution": {
     "iopub.execute_input": "2024-03-17T23:24:02.467987Z",
     "iopub.status.busy": "2024-03-17T23:24:02.466441Z",
     "iopub.status.idle": "2024-03-17T23:24:02.474619Z",
     "shell.execute_reply": "2024-03-17T23:24:02.472386Z",
     "shell.execute_reply.started": "2024-03-17T23:24:02.467926Z"
    }
   },
   "outputs": [],
   "source": [
    "#df = df_poi.head(5)"
   ]
  },
  {
   "cell_type": "code",
   "execution_count": null,
   "id": "4dd7cc33-db96-40ec-8ba6-bd8c1f48d0ac",
   "metadata": {
    "execution": {
     "iopub.execute_input": "2024-03-17T23:24:02.479475Z",
     "iopub.status.busy": "2024-03-17T23:24:02.477498Z",
     "iopub.status.idle": "2024-03-18T00:36:01.512147Z",
     "shell.execute_reply": "2024-03-18T00:36:01.465377Z",
     "shell.execute_reply.started": "2024-03-17T23:24:02.479379Z"
    }
   },
   "outputs": [],
   "source": [
    "with driver.session() as session:\n",
    "    load_records(session, df_poi)"
   ]
  },
  {
   "cell_type": "code",
   "execution_count": null,
   "id": "8b947887-ff23-49ce-910b-fb71aa161028",
   "metadata": {
    "execution": {
     "iopub.execute_input": "2024-03-18T00:36:01.596562Z",
     "iopub.status.busy": "2024-03-18T00:36:01.593681Z",
     "iopub.status.idle": "2024-03-18T00:38:11.603594Z",
     "shell.execute_reply": "2024-03-18T00:38:11.599662Z",
     "shell.execute_reply.started": "2024-03-18T00:36:01.596527Z"
    }
   },
   "outputs": [],
   "source": [
    "with driver.session() as session:\n",
    "    load_records(session, df_dol)"
   ]
  },
  {
   "cell_type": "code",
   "execution_count": null,
   "id": "579299f7-aa36-43cf-b992-4f63922ac065",
   "metadata": {
    "execution": {
     "iopub.execute_input": "2024-03-18T00:38:11.618751Z",
     "iopub.status.busy": "2024-03-18T00:38:11.618079Z",
     "iopub.status.idle": "2024-03-18T00:40:42.301364Z",
     "shell.execute_reply": "2024-03-18T00:40:42.298262Z",
     "shell.execute_reply.started": "2024-03-18T00:38:11.618701Z"
    }
   },
   "outputs": [],
   "source": [
    "with driver.session() as session:\n",
    "    load_records(session, df_ppp)"
   ]
  },
  {
   "cell_type": "code",
   "execution_count": null,
   "id": "abd5ff98-d768-4f5c-b345-7d8279da7237",
   "metadata": {
    "execution": {
     "iopub.execute_input": "2024-03-18T16:09:14.764670Z",
     "iopub.status.busy": "2024-03-18T16:09:14.764260Z",
     "iopub.status.idle": "2024-03-18T16:09:17.453819Z",
     "shell.execute_reply": "2024-03-18T16:09:17.453308Z",
     "shell.execute_reply.started": "2024-03-18T16:09:14.764640Z"
    },
    "scrolled": true
   },
   "outputs": [],
   "source": [
    "with driver.session() as session:\n",
    "    query: str = \"\"\"\n",
    "MATCH (rec:Record)\n",
    "RETURN rec\n",
    "LIMIT 10\n",
    "    \"\"\"\n",
    "    \n",
    "    for record in session.run(query):\n",
    "        ic(record)"
   ]
  },
  {
   "cell_type": "markdown",
   "id": "a75a6132-0ac8-4c4c-895c-83672a80f9ef",
   "metadata": {
    "jp-MarkdownHeadingCollapsed": true
   },
   "source": [
    "### Populate nodes from the Senzing entities"
   ]
  },
  {
   "cell_type": "code",
   "execution_count": null,
   "id": "cfe0198a-9ec6-4a6b-8101-ecd7db840749",
   "metadata": {
    "execution": {
     "iopub.execute_input": "2024-03-18T00:48:13.372868Z",
     "iopub.status.busy": "2024-03-18T00:48:13.372067Z",
     "iopub.status.idle": "2024-03-18T01:34:48.153348Z",
     "shell.execute_reply": "2024-03-18T01:34:48.121299Z",
     "shell.execute_reply.started": "2024-03-18T00:48:13.372816Z"
    },
    "scrolled": true
   },
   "outputs": [],
   "source": [
    "query = \"\"\"\n",
    "MERGE (ent:Entity {uid: $params.uid, has_ref: $params.has_ref})\n",
    "\"\"\"\n",
    "\n",
    "with driver.session() as session:\n",
    "    for entity in tqdm(entities.values(), desc = \"merge nodes for entities\"):\n",
    "        params = {\n",
    "            \"uid\": entity.entity_id,\n",
    "            \"has_ref\": entity.has_ref,\n",
    "        }\n",
    "\n",
    "        session.run(\n",
    "            query,\n",
    "            params = params,\n",
    "        )"
   ]
  },
  {
   "cell_type": "code",
   "execution_count": null,
   "id": "482c0ea8-4a8f-4070-9468-b73fa049c529",
   "metadata": {
    "execution": {
     "iopub.execute_input": "2024-03-18T00:40:44.108988Z",
     "iopub.status.busy": "2024-03-18T00:40:44.107029Z",
     "iopub.status.idle": "2024-03-18T00:40:51.500202Z",
     "shell.execute_reply": "2024-03-18T00:40:51.499049Z",
     "shell.execute_reply.started": "2024-03-18T00:40:44.108957Z"
    },
    "scrolled": true
   },
   "outputs": [],
   "source": [
    "entity = list(entities.values())[0]\n",
    "ic(entity);"
   ]
  },
  {
   "cell_type": "markdown",
   "id": "14f3491c-09b5-46ab-80aa-e0d7865baaa4",
   "metadata": {
    "execution": {
     "iopub.execute_input": "2024-03-18T16:39:10.289069Z",
     "iopub.status.busy": "2024-03-18T16:39:10.286686Z",
     "iopub.status.idle": "2024-03-18T16:39:10.299516Z",
     "shell.execute_reply": "2024-03-18T16:39:10.298298Z",
     "shell.execute_reply.started": "2024-03-18T16:39:10.288998Z"
    }
   },
   "source": [
    "### Connect the resolved records and related entities"
   ]
  },
  {
   "cell_type": "code",
   "execution_count": null,
   "id": "d12bdd32-014c-4b92-a172-f07be1f8b012",
   "metadata": {
    "execution": {
     "iopub.execute_input": "2024-03-18T16:13:10.304756Z",
     "iopub.status.busy": "2024-03-18T16:13:10.302634Z",
     "iopub.status.idle": "2024-03-18T16:17:05.755943Z",
     "shell.execute_reply": "2024-03-18T16:17:05.746441Z",
     "shell.execute_reply.started": "2024-03-18T16:13:10.304677Z"
    },
    "scrolled": true
   },
   "outputs": [],
   "source": [
    "query = \"\"\"\n",
    "MATCH\n",
    "    (ent:Entity {uid: $params.entity_uid}),\n",
    "    (rec:Record {uid: $params.record_uid})       \n",
    "MERGE (ent)-[:RESOLVES]->(rec)\n",
    "\"\"\"\n",
    "\n",
    "with driver.session() as session:\n",
    "    for entity in tqdm(entities.values(), desc = \"merge entity->record\"):\n",
    "        for record_uid in entity.records:\n",
    "            params = {\n",
    "                \"entity_uid\": entity.entity_id,\n",
    "                \"record_uid\": record_uid,\n",
    "            }\n",
    "\n",
    "            session.run(\n",
    "                query,\n",
    "                params = params,\n",
    "            )"
   ]
  },
  {
   "cell_type": "code",
   "execution_count": null,
   "id": "d4b40061-76a6-4a68-84e5-b86a4ae6a52d",
   "metadata": {
    "execution": {
     "iopub.execute_input": "2024-03-18T16:43:34.029434Z",
     "iopub.status.busy": "2024-03-18T16:43:34.028189Z",
     "iopub.status.idle": "2024-03-18T19:01:53.650822Z",
     "shell.execute_reply": "2024-03-18T19:01:53.607029Z",
     "shell.execute_reply.started": "2024-03-18T16:43:34.029402Z"
    },
    "scrolled": true
   },
   "outputs": [],
   "source": [
    "query = \"\"\"\n",
    "MATCH\n",
    "    (ent:Entity {uid: $params.entity_uid}),\n",
    "    (rel_ent:Entity {uid: $params.rel_ent})       \n",
    "MERGE (ent)-[:RELATED {ambiguous: $params.ambiguous, disclosed: $params.disclosed, match_key: $params.match_key, match_level: $params.match_level, match_level_code: $params.match_level_code}]->(rel_ent)\n",
    "\"\"\"\n",
    "\n",
    "with driver.session() as session:\n",
    "    for entity in tqdm(entities.values(), desc = \"merge entity->related\"):\n",
    "        for rel_key, rel_ent in entity.related.items():\n",
    "            params = {\n",
    "                \"entity_uid\": entity.entity_id,\n",
    "                \"rel_ent\": rel_ent[\"ENTITY_ID\"],\n",
    "                \"ambiguous\": (rel_ent[\"IS_AMBIGUOUS\"] == 0),\n",
    "                \"disclosed\": (rel_ent[\"IS_DISCLOSED\"] == 0),\n",
    "                \"match_key\": rel_ent[\"MATCH_KEY\"],\n",
    "                \"match_level\": rel_ent[\"MATCH_LEVEL\"],\n",
    "                \"match_level_code\": rel_ent[\"MATCH_LEVEL_CODE\"],\n",
    "            }\n",
    "\n",
    "            session.run(\n",
    "                query,\n",
    "                params = params,\n",
    "            )"
   ]
  },
  {
   "cell_type": "code",
   "execution_count": null,
   "id": "7c48bc06-194a-4b43-9837-9a8d0fe16c25",
   "metadata": {
    "execution": {
     "iopub.execute_input": "2024-03-18T19:18:12.184416Z",
     "iopub.status.busy": "2024-03-18T19:18:12.183684Z",
     "iopub.status.idle": "2024-03-18T19:18:12.779794Z",
     "shell.execute_reply": "2024-03-18T19:18:12.779198Z",
     "shell.execute_reply.started": "2024-03-18T19:18:12.184364Z"
    }
   },
   "outputs": [],
   "source": [
    "with driver.session() as session:\n",
    "    query = \"\"\"\n",
    "MATCH (ent:Entity)\n",
    "RETURN\n",
    "    ent.uid, COUNT { (ent)-[:RESOLVES]->(:Record) } AS num_recs\n",
    "ORDER BY num_recs DESC\n",
    "LIMIT 20\n",
    "    \"\"\"\n",
    "    \n",
    "    for ent in session.run(query):\n",
    "        ic(ent)"
   ]
  },
  {
   "cell_type": "code",
   "execution_count": null,
   "id": "9a4643ac-f78b-4cc2-87b2-fba34a712510",
   "metadata": {},
   "outputs": [],
   "source": []
  }
 ],
 "metadata": {
  "kernelspec": {
   "display_name": "Python 3 (ipykernel)",
   "language": "python",
   "name": "python3"
  },
  "language_info": {
   "codemirror_mode": {
    "name": "ipython",
    "version": 3
   },
   "file_extension": ".py",
   "mimetype": "text/x-python",
   "name": "python",
   "nbconvert_exporter": "python",
   "pygments_lexer": "ipython3",
   "version": "3.11.6"
  }
 },
 "nbformat": 4,
 "nbformat_minor": 5
}
